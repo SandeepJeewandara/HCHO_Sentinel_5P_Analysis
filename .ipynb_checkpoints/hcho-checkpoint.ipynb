{
 "cells": [
  {
   "cell_type": "code",
   "execution_count": 1,
   "metadata": {},
   "outputs": [],
   "source": [
    "# Import necessary libraries\n",
    "import pyspark\n",
    "import pyspark.sql  as pyspark_sql\n",
    "from pyspark import SparkContext, SparkConf\n",
    "from pyspark.sql.functions import count, when, isnan, col\n",
    "from pyspark.sql.types import DateType\n",
    "from pyspark.sql.functions import to_date"
   ]
  },
  {
   "cell_type": "code",
   "execution_count": 2,
   "metadata": {},
   "outputs": [
    {
     "name": "stderr",
     "output_type": "stream",
     "text": [
      "Setting default log level to \"WARN\".\n",
      "To adjust logging level use sc.setLogLevel(newLevel). For SparkR, use setLogLevel(newLevel).\n",
      "24/04/18 20:44:23 WARN NativeCodeLoader: Unable to load native-hadoop library for your platform... using builtin-java classes where applicable\n"
     ]
    },
    {
     "name": "stderr",
     "output_type": "stream",
     "text": [
      "----------------------------------------\n",
      "Exception occurred during processing of request from ('127.0.0.1', 61203)\n",
      "Traceback (most recent call last):\n",
      "  File \"/Applications/Xcode.app/Contents/Developer/Library/Frameworks/Python3.framework/Versions/3.9/lib/python3.9/socketserver.py\", line 316, in _handle_request_noblock\n",
      "    self.process_request(request, client_address)\n",
      "  File \"/Applications/Xcode.app/Contents/Developer/Library/Frameworks/Python3.framework/Versions/3.9/lib/python3.9/socketserver.py\", line 347, in process_request\n",
      "    self.finish_request(request, client_address)\n",
      "  File \"/Applications/Xcode.app/Contents/Developer/Library/Frameworks/Python3.framework/Versions/3.9/lib/python3.9/socketserver.py\", line 360, in finish_request\n",
      "    self.RequestHandlerClass(request, client_address, self)\n",
      "  File \"/Applications/Xcode.app/Contents/Developer/Library/Frameworks/Python3.framework/Versions/3.9/lib/python3.9/socketserver.py\", line 747, in __init__\n",
      "    self.handle()\n",
      "  File \"/Users/chulanshammi/Library/Python/3.9/lib/python/site-packages/pyspark/accumulators.py\", line 295, in handle\n",
      "    poll(accum_updates)\n",
      "  File \"/Users/chulanshammi/Library/Python/3.9/lib/python/site-packages/pyspark/accumulators.py\", line 267, in poll\n",
      "    if self.rfile in r and func():\n",
      "  File \"/Users/chulanshammi/Library/Python/3.9/lib/python/site-packages/pyspark/accumulators.py\", line 271, in accum_updates\n",
      "    num_updates = read_int(self.rfile)\n",
      "  File \"/Users/chulanshammi/Library/Python/3.9/lib/python/site-packages/pyspark/serializers.py\", line 596, in read_int\n",
      "    raise EOFError\n",
      "EOFError\n",
      "----------------------------------------\n"
     ]
    }
   ],
   "source": [
    "# create the session\n",
    "conf = SparkConf().set(\"spark.ui.port\", \"4050\")\n",
    "\n",
    "# create the context\n",
    "sc = pyspark.SparkContext(conf=conf)\n",
    "spark = pyspark_sql.SparkSession.builder.getOrCreate()"
   ]
  },
  {
   "cell_type": "code",
   "execution_count": 3,
   "metadata": {},
   "outputs": [],
   "source": [
    "df1 = spark.read.csv(\"datasets/col_mat_nuw_output.csv\", header=False)\n",
    "df2 = spark.read.csv(\"datasets/kan_output.csv\", header=False)\n",
    "df3 = spark.read.csv(\"datasets/mon_kur_jaf_output.csv\", header=False)"
   ]
  },
  {
   "cell_type": "code",
   "execution_count": 4,
   "metadata": {},
   "outputs": [],
   "source": [
    "def missingValues(df):\n",
    "    missing_values = {col:df.filter(df[col].isNull()).count() for col in df.columns}\n",
    "    return missing_values"
   ]
  },
  {
   "cell_type": "code",
   "execution_count": 5,
   "metadata": {},
   "outputs": [
    {
     "name": "stdout",
     "output_type": "stream",
     "text": [
      "+--------------------+--------------+----------+----------+\n",
      "|                 _c0|           _c1|       _c2|       _c3|\n",
      "+--------------------+--------------+----------+----------+\n",
      "|0.000196983439578...|Colombo Proper|2019-01-01|2019-01-02|\n",
      "|0.000262552217196...|Colombo Proper|2019-01-02|2019-01-03|\n",
      "|9.852118897938794...|Colombo Proper|2019-01-03|2019-01-04|\n",
      "|0.000209932051811...|Colombo Proper|2019-01-04|2019-01-05|\n",
      "|0.000178533729889...|Colombo Proper|2019-01-05|2019-01-06|\n",
      "|0.000108229670023...|Colombo Proper|2019-01-06|2019-01-07|\n",
      "|0.000392682928047...|Colombo Proper|2019-01-07|2019-01-08|\n",
      "|9.153156350685351...|Colombo Proper|2019-01-08|2019-01-09|\n",
      "|0.000120597899285...|Colombo Proper|2019-01-09|2019-01-10|\n",
      "|0.000129772356298...|Colombo Proper|2019-01-10|2019-01-11|\n",
      "|0.000223918816680...|Colombo Proper|2019-01-11|2019-01-12|\n",
      "|0.000156941809417...|Colombo Proper|2019-01-12|2019-01-13|\n",
      "|                NULL|Colombo Proper|2019-01-13|2019-01-14|\n",
      "|0.000133629190686...|Colombo Proper|2019-01-14|2019-01-15|\n",
      "|6.374417842690063...|Colombo Proper|2019-01-15|2019-01-16|\n",
      "|0.000118106225081...|Colombo Proper|2019-01-16|2019-01-17|\n",
      "|0.000247255522242...|Colombo Proper|2019-01-17|2019-01-18|\n",
      "|3.667525352047757...|Colombo Proper|2019-01-18|2019-01-19|\n",
      "|0.000405750086815...|Colombo Proper|2019-01-19|2019-01-20|\n",
      "|0.000168785621647...|Colombo Proper|2019-01-20|2019-01-21|\n",
      "+--------------------+--------------+----------+----------+\n",
      "only showing top 20 rows\n",
      "\n"
     ]
    }
   ],
   "source": [
    "df1.show()"
   ]
  },
  {
   "cell_type": "code",
   "execution_count": 6,
   "metadata": {},
   "outputs": [
    {
     "data": {
      "text/plain": [
       "{'_c0': 2419, '_c1': 0, '_c2': 0, '_c3': 0}"
      ]
     },
     "execution_count": 6,
     "metadata": {},
     "output_type": "execute_result"
    }
   ],
   "source": [
    "missingValues(df1)"
   ]
  },
  {
   "cell_type": "code",
   "execution_count": 7,
   "metadata": {},
   "outputs": [
    {
     "name": "stdout",
     "output_type": "stream",
     "text": [
      "+--------------------+------------+----------+----------+\n",
      "|                 _c0|         _c1|       _c2|       _c3|\n",
      "+--------------------+------------+----------+----------+\n",
      "|0.000176071345987...|Kandy Proper|2019-01-01|2019-01-02|\n",
      "|9.220391253917748...|Kandy Proper|2019-01-02|2019-01-03|\n",
      "|                NULL|Kandy Proper|2019-01-03|2019-01-04|\n",
      "|0.000190868198385...|Kandy Proper|2019-01-04|2019-01-05|\n",
      "|0.000121951784020...|Kandy Proper|2019-01-05|2019-01-06|\n",
      "|-6.51408612938880...|Kandy Proper|2019-01-06|2019-01-07|\n",
      "| 0.00016323820639265|Kandy Proper|2019-01-07|2019-01-08|\n",
      "|-6.73520553391426...|Kandy Proper|2019-01-08|2019-01-09|\n",
      "|0.000127969365824...|Kandy Proper|2019-01-09|2019-01-10|\n",
      "|4.546048424126012...|Kandy Proper|2019-01-10|2019-01-11|\n",
      "|3.600074175192105...|Kandy Proper|2019-01-11|2019-01-12|\n",
      "|0.000128662969801...|Kandy Proper|2019-01-12|2019-01-13|\n",
      "|                NULL|Kandy Proper|2019-01-13|2019-01-14|\n",
      "|                NULL|Kandy Proper|2019-01-14|2019-01-15|\n",
      "|9.63639634671553e-05|Kandy Proper|2019-01-15|2019-01-16|\n",
      "|                NULL|Kandy Proper|2019-01-16|2019-01-17|\n",
      "|0.000120097127848...|Kandy Proper|2019-01-17|2019-01-18|\n",
      "|-0.00011972465671...|Kandy Proper|2019-01-18|2019-01-19|\n",
      "|0.000282526376152...|Kandy Proper|2019-01-19|2019-01-20|\n",
      "|7.150631692646835...|Kandy Proper|2019-01-20|2019-01-21|\n",
      "+--------------------+------------+----------+----------+\n",
      "only showing top 20 rows\n",
      "\n"
     ]
    }
   ],
   "source": [
    "df2.show()"
   ]
  },
  {
   "cell_type": "code",
   "execution_count": 8,
   "metadata": {},
   "outputs": [
    {
     "data": {
      "text/plain": [
       "{'_c0': 793, '_c1': 0, '_c2': 0, '_c3': 0}"
      ]
     },
     "execution_count": 8,
     "metadata": {},
     "output_type": "execute_result"
    }
   ],
   "source": [
    "missingValues(df2)"
   ]
  },
  {
   "cell_type": "code",
   "execution_count": 9,
   "metadata": {},
   "outputs": [
    {
     "name": "stdout",
     "output_type": "stream",
     "text": [
      "+--------------------+------------------+----------+----------+\n",
      "|                 _c0|               _c1|       _c2|       _c3|\n",
      "+--------------------+------------------+----------+----------+\n",
      "|                NULL|Bibile, Monaragala|2019-01-01|2019-01-02|\n",
      "|1.919914652467399...|Bibile, Monaragala|2019-01-02|2019-01-03|\n",
      "|2.811447935930283...|Bibile, Monaragala|2019-01-03|2019-01-04|\n",
      "|3.747998184385943...|Bibile, Monaragala|2019-01-04|2019-01-05|\n",
      "|-1.79826087934531...|Bibile, Monaragala|2019-01-05|2019-01-06|\n",
      "|0.000145783689617...|Bibile, Monaragala|2019-01-06|2019-01-07|\n",
      "|2.828590802546534...|Bibile, Monaragala|2019-01-07|2019-01-08|\n",
      "|                NULL|Bibile, Monaragala|2019-01-08|2019-01-09|\n",
      "|0.000142085016705...|Bibile, Monaragala|2019-01-09|2019-01-10|\n",
      "|                NULL|Bibile, Monaragala|2019-01-10|2019-01-11|\n",
      "|2.014587947072581...|Bibile, Monaragala|2019-01-11|2019-01-12|\n",
      "|0.000158278766321...|Bibile, Monaragala|2019-01-12|2019-01-13|\n",
      "|                NULL|Bibile, Monaragala|2019-01-13|2019-01-14|\n",
      "|                NULL|Bibile, Monaragala|2019-01-14|2019-01-15|\n",
      "|9.952823849642218...|Bibile, Monaragala|2019-01-15|2019-01-16|\n",
      "|7.484570960514249...|Bibile, Monaragala|2019-01-16|2019-01-17|\n",
      "|7.736112226328797...|Bibile, Monaragala|2019-01-17|2019-01-18|\n",
      "|                NULL|Bibile, Monaragala|2019-01-18|2019-01-19|\n",
      "|3.988141010407665...|Bibile, Monaragala|2019-01-19|2019-01-20|\n",
      "|0.000189162020385...|Bibile, Monaragala|2019-01-20|2019-01-21|\n",
      "+--------------------+------------------+----------+----------+\n",
      "only showing top 20 rows\n",
      "\n"
     ]
    }
   ],
   "source": [
    "df3.show()"
   ]
  },
  {
   "cell_type": "code",
   "execution_count": 10,
   "metadata": {},
   "outputs": [
    {
     "data": {
      "text/plain": [
       "{'_c0': 1652, '_c1': 0, '_c2': 0, '_c3': 0}"
      ]
     },
     "execution_count": 10,
     "metadata": {},
     "output_type": "execute_result"
    }
   ],
   "source": [
    "missingValues(df3)"
   ]
  },
  {
   "cell_type": "code",
   "execution_count": 11,
   "metadata": {},
   "outputs": [],
   "source": [
    "column_names = [\"HCHO reading\", \"Location\", \"Current Date\", \"Next Date\"]\n",
    "hcho_df1 = df1.toDF(*column_names)\n",
    "hcho_df2 = df2.toDF(*column_names)\n",
    "hcho_df3 = df3.toDF(*column_names)"
   ]
  },
  {
   "cell_type": "code",
   "execution_count": 12,
   "metadata": {},
   "outputs": [
    {
     "name": "stdout",
     "output_type": "stream",
     "text": [
      "+--------------------+--------------+------------+----------+\n",
      "|        HCHO reading|      Location|Current Date| Next Date|\n",
      "+--------------------+--------------+------------+----------+\n",
      "|0.000196983439578...|Colombo Proper|  2019-01-01|2019-01-02|\n",
      "|0.000262552217196...|Colombo Proper|  2019-01-02|2019-01-03|\n",
      "|9.852118897938794...|Colombo Proper|  2019-01-03|2019-01-04|\n",
      "|0.000209932051811...|Colombo Proper|  2019-01-04|2019-01-05|\n",
      "|0.000178533729889...|Colombo Proper|  2019-01-05|2019-01-06|\n",
      "|0.000108229670023...|Colombo Proper|  2019-01-06|2019-01-07|\n",
      "|0.000392682928047...|Colombo Proper|  2019-01-07|2019-01-08|\n",
      "|9.153156350685351...|Colombo Proper|  2019-01-08|2019-01-09|\n",
      "|0.000120597899285...|Colombo Proper|  2019-01-09|2019-01-10|\n",
      "|0.000129772356298...|Colombo Proper|  2019-01-10|2019-01-11|\n",
      "|0.000223918816680...|Colombo Proper|  2019-01-11|2019-01-12|\n",
      "|0.000156941809417...|Colombo Proper|  2019-01-12|2019-01-13|\n",
      "|                NULL|Colombo Proper|  2019-01-13|2019-01-14|\n",
      "|0.000133629190686...|Colombo Proper|  2019-01-14|2019-01-15|\n",
      "|6.374417842690063...|Colombo Proper|  2019-01-15|2019-01-16|\n",
      "|0.000118106225081...|Colombo Proper|  2019-01-16|2019-01-17|\n",
      "|0.000247255522242...|Colombo Proper|  2019-01-17|2019-01-18|\n",
      "|3.667525352047757...|Colombo Proper|  2019-01-18|2019-01-19|\n",
      "|0.000405750086815...|Colombo Proper|  2019-01-19|2019-01-20|\n",
      "|0.000168785621647...|Colombo Proper|  2019-01-20|2019-01-21|\n",
      "+--------------------+--------------+------------+----------+\n",
      "only showing top 20 rows\n",
      "\n"
     ]
    }
   ],
   "source": [
    "hcho_df1.show()"
   ]
  },
  {
   "cell_type": "code",
   "execution_count": 13,
   "metadata": {},
   "outputs": [
    {
     "name": "stdout",
     "output_type": "stream",
     "text": [
      "+--------------------+------------+------------+----------+\n",
      "|        HCHO reading|    Location|Current Date| Next Date|\n",
      "+--------------------+------------+------------+----------+\n",
      "|0.000176071345987...|Kandy Proper|  2019-01-01|2019-01-02|\n",
      "|9.220391253917748...|Kandy Proper|  2019-01-02|2019-01-03|\n",
      "|                NULL|Kandy Proper|  2019-01-03|2019-01-04|\n",
      "|0.000190868198385...|Kandy Proper|  2019-01-04|2019-01-05|\n",
      "|0.000121951784020...|Kandy Proper|  2019-01-05|2019-01-06|\n",
      "|-6.51408612938880...|Kandy Proper|  2019-01-06|2019-01-07|\n",
      "| 0.00016323820639265|Kandy Proper|  2019-01-07|2019-01-08|\n",
      "|-6.73520553391426...|Kandy Proper|  2019-01-08|2019-01-09|\n",
      "|0.000127969365824...|Kandy Proper|  2019-01-09|2019-01-10|\n",
      "|4.546048424126012...|Kandy Proper|  2019-01-10|2019-01-11|\n",
      "|3.600074175192105...|Kandy Proper|  2019-01-11|2019-01-12|\n",
      "|0.000128662969801...|Kandy Proper|  2019-01-12|2019-01-13|\n",
      "|                NULL|Kandy Proper|  2019-01-13|2019-01-14|\n",
      "|                NULL|Kandy Proper|  2019-01-14|2019-01-15|\n",
      "|9.63639634671553e-05|Kandy Proper|  2019-01-15|2019-01-16|\n",
      "|                NULL|Kandy Proper|  2019-01-16|2019-01-17|\n",
      "|0.000120097127848...|Kandy Proper|  2019-01-17|2019-01-18|\n",
      "|-0.00011972465671...|Kandy Proper|  2019-01-18|2019-01-19|\n",
      "|0.000282526376152...|Kandy Proper|  2019-01-19|2019-01-20|\n",
      "|7.150631692646835...|Kandy Proper|  2019-01-20|2019-01-21|\n",
      "+--------------------+------------+------------+----------+\n",
      "only showing top 20 rows\n",
      "\n"
     ]
    }
   ],
   "source": [
    "hcho_df2.show()"
   ]
  },
  {
   "cell_type": "code",
   "execution_count": 14,
   "metadata": {},
   "outputs": [
    {
     "name": "stdout",
     "output_type": "stream",
     "text": [
      "+--------------------+------------------+------------+----------+\n",
      "|        HCHO reading|          Location|Current Date| Next Date|\n",
      "+--------------------+------------------+------------+----------+\n",
      "|                NULL|Bibile, Monaragala|  2019-01-01|2019-01-02|\n",
      "|1.919914652467399...|Bibile, Monaragala|  2019-01-02|2019-01-03|\n",
      "|2.811447935930283...|Bibile, Monaragala|  2019-01-03|2019-01-04|\n",
      "|3.747998184385943...|Bibile, Monaragala|  2019-01-04|2019-01-05|\n",
      "|-1.79826087934531...|Bibile, Monaragala|  2019-01-05|2019-01-06|\n",
      "|0.000145783689617...|Bibile, Monaragala|  2019-01-06|2019-01-07|\n",
      "|2.828590802546534...|Bibile, Monaragala|  2019-01-07|2019-01-08|\n",
      "|                NULL|Bibile, Monaragala|  2019-01-08|2019-01-09|\n",
      "|0.000142085016705...|Bibile, Monaragala|  2019-01-09|2019-01-10|\n",
      "|                NULL|Bibile, Monaragala|  2019-01-10|2019-01-11|\n",
      "|2.014587947072581...|Bibile, Monaragala|  2019-01-11|2019-01-12|\n",
      "|0.000158278766321...|Bibile, Monaragala|  2019-01-12|2019-01-13|\n",
      "|                NULL|Bibile, Monaragala|  2019-01-13|2019-01-14|\n",
      "|                NULL|Bibile, Monaragala|  2019-01-14|2019-01-15|\n",
      "|9.952823849642218...|Bibile, Monaragala|  2019-01-15|2019-01-16|\n",
      "|7.484570960514249...|Bibile, Monaragala|  2019-01-16|2019-01-17|\n",
      "|7.736112226328797...|Bibile, Monaragala|  2019-01-17|2019-01-18|\n",
      "|                NULL|Bibile, Monaragala|  2019-01-18|2019-01-19|\n",
      "|3.988141010407665...|Bibile, Monaragala|  2019-01-19|2019-01-20|\n",
      "|0.000189162020385...|Bibile, Monaragala|  2019-01-20|2019-01-21|\n",
      "+--------------------+------------------+------------+----------+\n",
      "only showing top 20 rows\n",
      "\n"
     ]
    }
   ],
   "source": [
    "hcho_df3.show()"
   ]
  },
  {
   "cell_type": "code",
   "execution_count": 15,
   "metadata": {},
   "outputs": [
    {
     "name": "stdout",
     "output_type": "stream",
     "text": [
      "+--------------------+--------------+------------+----------+\n",
      "|        HCHO reading|      Location|Current Date| Next Date|\n",
      "+--------------------+--------------+------------+----------+\n",
      "|0.000196983439578...|Colombo Proper|  2019-01-01|2019-01-02|\n",
      "|0.000262552217196...|Colombo Proper|  2019-01-02|2019-01-03|\n",
      "|9.852118897938794...|Colombo Proper|  2019-01-03|2019-01-04|\n",
      "|0.000209932051811...|Colombo Proper|  2019-01-04|2019-01-05|\n",
      "|0.000178533729889...|Colombo Proper|  2019-01-05|2019-01-06|\n",
      "|0.000108229670023...|Colombo Proper|  2019-01-06|2019-01-07|\n",
      "|0.000392682928047...|Colombo Proper|  2019-01-07|2019-01-08|\n",
      "|9.153156350685351...|Colombo Proper|  2019-01-08|2019-01-09|\n",
      "|0.000120597899285...|Colombo Proper|  2019-01-09|2019-01-10|\n",
      "|0.000129772356298...|Colombo Proper|  2019-01-10|2019-01-11|\n",
      "|0.000223918816680...|Colombo Proper|  2019-01-11|2019-01-12|\n",
      "|0.000156941809417...|Colombo Proper|  2019-01-12|2019-01-13|\n",
      "|                NULL|Colombo Proper|  2019-01-13|2019-01-14|\n",
      "|0.000133629190686...|Colombo Proper|  2019-01-14|2019-01-15|\n",
      "|6.374417842690063...|Colombo Proper|  2019-01-15|2019-01-16|\n",
      "|0.000118106225081...|Colombo Proper|  2019-01-16|2019-01-17|\n",
      "|0.000247255522242...|Colombo Proper|  2019-01-17|2019-01-18|\n",
      "|3.667525352047757...|Colombo Proper|  2019-01-18|2019-01-19|\n",
      "|0.000405750086815...|Colombo Proper|  2019-01-19|2019-01-20|\n",
      "|0.000168785621647...|Colombo Proper|  2019-01-20|2019-01-21|\n",
      "+--------------------+--------------+------------+----------+\n",
      "only showing top 20 rows\n",
      "\n",
      "Dimension of the Dataframe: (12782, 4)\n"
     ]
    }
   ],
   "source": [
    "df = hcho_df1.union(hcho_df2).union(hcho_df3)\n",
    "df.show()\n",
    "\n",
    "row = df.count()\n",
    "column = len(df.columns)\n",
    "\n",
    "print(f'Dimension of the Dataframe: {(row,column)}')"
   ]
  },
  {
   "cell_type": "code",
   "execution_count": 16,
   "metadata": {},
   "outputs": [
    {
     "name": "stdout",
     "output_type": "stream",
     "text": [
      "root\n",
      " |-- HCHO reading: string (nullable = true)\n",
      " |-- Location: string (nullable = true)\n",
      " |-- Current Date: string (nullable = true)\n",
      " |-- Next Date: string (nullable = true)\n",
      "\n"
     ]
    }
   ],
   "source": [
    "df.printSchema()"
   ]
  },
  {
   "cell_type": "code",
   "execution_count": 17,
   "metadata": {},
   "outputs": [
    {
     "name": "stdout",
     "output_type": "stream",
     "text": [
      "root\n",
      " |-- HCHO reading: double (nullable = true)\n",
      " |-- Location: string (nullable = true)\n",
      " |-- Current Date: date (nullable = true)\n",
      " |-- Next Date: date (nullable = true)\n",
      "\n",
      "+--------------------+--------------+------------+----------+\n",
      "|        HCHO reading|      Location|Current Date| Next Date|\n",
      "+--------------------+--------------+------------+----------+\n",
      "|1.969834395781014...|Colombo Proper|  2019-01-01|2019-01-02|\n",
      "|2.625522171968594...|Colombo Proper|  2019-01-02|2019-01-03|\n",
      "|9.852118897938794E-5|Colombo Proper|  2019-01-03|2019-01-04|\n",
      "|2.099320518114242E-4|Colombo Proper|  2019-01-04|2019-01-05|\n",
      "|1.785337298892930...|Colombo Proper|  2019-01-05|2019-01-06|\n",
      "|1.082296700235670...|Colombo Proper|  2019-01-06|2019-01-07|\n",
      "|3.926829280477309...|Colombo Proper|  2019-01-07|2019-01-08|\n",
      "|9.153156350685351E-5|Colombo Proper|  2019-01-08|2019-01-09|\n",
      "|1.205978992853015...|Colombo Proper|  2019-01-09|2019-01-10|\n",
      "|1.297723562983258...|Colombo Proper|  2019-01-10|2019-01-11|\n",
      "|2.239188166801278...|Colombo Proper|  2019-01-11|2019-01-12|\n",
      "|1.569418094178759...|Colombo Proper|  2019-01-12|2019-01-13|\n",
      "|                NULL|Colombo Proper|  2019-01-13|2019-01-14|\n",
      "|1.336291906862603...|Colombo Proper|  2019-01-14|2019-01-15|\n",
      "|6.374417842690063E-5|Colombo Proper|  2019-01-15|2019-01-16|\n",
      "|1.181062250815020...|Colombo Proper|  2019-01-16|2019-01-17|\n",
      "|2.472555222423037...|Colombo Proper|  2019-01-17|2019-01-18|\n",
      "|3.667525352047757E-5|Colombo Proper|  2019-01-18|2019-01-19|\n",
      "|4.057500868150313E-4|Colombo Proper|  2019-01-19|2019-01-20|\n",
      "|1.687856216479722...|Colombo Proper|  2019-01-20|2019-01-21|\n",
      "+--------------------+--------------+------------+----------+\n",
      "only showing top 20 rows\n",
      "\n"
     ]
    }
   ],
   "source": [
    "df = df.withColumn(\"Current Date\", col(\"Current Date\").cast(\"date\"))\n",
    "df = df.withColumn(\"Next Date\", col(\"Next Date\").cast(\"date\"))\n",
    "df = df.withColumn(\"HCHO reading\", col(\"HCHO reading\").cast(\"double\"))\n",
    "df.printSchema()\n",
    "df.show()"
   ]
  },
  {
   "cell_type": "code",
   "execution_count": 18,
   "metadata": {},
   "outputs": [
    {
     "data": {
      "text/plain": [
       "{'HCHO reading': 4864, 'Location': 0, 'Current Date': 0, 'Next Date': 0}"
      ]
     },
     "execution_count": 18,
     "metadata": {},
     "output_type": "execute_result"
    }
   ],
   "source": [
    "missingValues(df)"
   ]
  },
  {
   "cell_type": "code",
   "execution_count": 19,
   "metadata": {},
   "outputs": [
    {
     "data": {
      "text/plain": [
       "DataFrame[HCHO reading: double, Location: string, Current Date: date]"
      ]
     },
     "execution_count": 19,
     "metadata": {},
     "output_type": "execute_result"
    }
   ],
   "source": [
    "df.drop('Next Date')"
   ]
  },
  {
   "cell_type": "code",
   "execution_count": 20,
   "metadata": {},
   "outputs": [
    {
     "name": "stdout",
     "output_type": "stream",
     "text": [
      "+-------+--------------------+\n",
      "|summary|        HCHO reading|\n",
      "+-------+--------------------+\n",
      "|  count|                7918|\n",
      "|   mean|1.192778916513748...|\n",
      "| stddev|9.322341209771851E-5|\n",
      "|    min|-3.52473024357239...|\n",
      "|    max|8.997101837438971E-4|\n",
      "+-------+--------------------+\n",
      "\n"
     ]
    }
   ],
   "source": [
    "print()\n",
    "df.describe('HCHO reading').show()"
   ]
  },
  {
   "cell_type": "code",
   "execution_count": 22,
   "metadata": {},
   "outputs": [
    {
     "name": "stderr",
     "output_type": "stream",
     "text": [
      "/var/folders/pq/16jkc92s59df9_kx9vcp2my00000gn/T/ipykernel_14358/2660823978.py:6: FutureWarning: Series.fillna with 'method' is deprecated and will raise in a future version. Use obj.ffill() or obj.bfill() instead.\n",
      "  pandas_df['HCHO reading'] = pandas_df['HCHO reading'].fillna(method='ffill')\n"
     ]
    },
    {
     "name": "stdout",
     "output_type": "stream",
     "text": [
      "+--------------------+--------------+------------+----------+\n",
      "|        HCHO reading|      Location|Current Date| Next Date|\n",
      "+--------------------+--------------+------------+----------+\n",
      "|1.969834395781014...|Colombo Proper|  2019-01-01|2019-01-02|\n",
      "|2.625522171968594...|Colombo Proper|  2019-01-02|2019-01-03|\n",
      "|9.852118897938794E-5|Colombo Proper|  2019-01-03|2019-01-04|\n",
      "|2.099320518114242E-4|Colombo Proper|  2019-01-04|2019-01-05|\n",
      "|1.785337298892930...|Colombo Proper|  2019-01-05|2019-01-06|\n",
      "|1.082296700235670...|Colombo Proper|  2019-01-06|2019-01-07|\n",
      "|3.926829280477309...|Colombo Proper|  2019-01-07|2019-01-08|\n",
      "|9.153156350685351E-5|Colombo Proper|  2019-01-08|2019-01-09|\n",
      "|1.205978992853015...|Colombo Proper|  2019-01-09|2019-01-10|\n",
      "|1.297723562983258...|Colombo Proper|  2019-01-10|2019-01-11|\n",
      "|2.239188166801278...|Colombo Proper|  2019-01-11|2019-01-12|\n",
      "|1.569418094178759...|Colombo Proper|  2019-01-12|2019-01-13|\n",
      "|1.569418094178759...|Colombo Proper|  2019-01-13|2019-01-14|\n",
      "|1.336291906862603...|Colombo Proper|  2019-01-14|2019-01-15|\n",
      "|6.374417842690063E-5|Colombo Proper|  2019-01-15|2019-01-16|\n",
      "|1.181062250815020...|Colombo Proper|  2019-01-16|2019-01-17|\n",
      "|2.472555222423037...|Colombo Proper|  2019-01-17|2019-01-18|\n",
      "|3.667525352047757E-5|Colombo Proper|  2019-01-18|2019-01-19|\n",
      "|4.057500868150313E-4|Colombo Proper|  2019-01-19|2019-01-20|\n",
      "|1.687856216479722...|Colombo Proper|  2019-01-20|2019-01-21|\n",
      "|3.881549328739672...|Colombo Proper|  2019-01-21|2019-01-22|\n",
      "|3.282922940445869E-4|Colombo Proper|  2019-01-22|2019-01-23|\n",
      "|2.147798144691999...|Colombo Proper|  2019-01-23|2019-01-24|\n",
      "|2.347245196410463E-4|Colombo Proper|  2019-01-24|2019-01-25|\n",
      "|2.820915300341781E-4|Colombo Proper|  2019-01-25|2019-01-26|\n",
      "|2.507263493088431...|Colombo Proper|  2019-01-26|2019-01-27|\n",
      "|1.973288435314463...|Colombo Proper|  2019-01-27|2019-01-28|\n",
      "|2.555121674807678E-4|Colombo Proper|  2019-01-28|2019-01-29|\n",
      "|2.555121674807678E-4|Colombo Proper|  2019-01-29|2019-01-30|\n",
      "|1.713635736010489...|Colombo Proper|  2019-01-30|2019-01-31|\n",
      "|1.523802119023603...|Colombo Proper|  2019-01-31|2019-02-01|\n",
      "|3.537610010169976E-4|Colombo Proper|  2019-02-01|2019-02-02|\n",
      "|2.755728995643352...|Colombo Proper|  2019-02-02|2019-02-03|\n",
      "| 2.31884649807831E-4|Colombo Proper|  2019-02-03|2019-02-04|\n",
      "| 2.31884649807831E-4|Colombo Proper|  2019-02-04|2019-02-05|\n",
      "|3.618487680796534E-4|Colombo Proper|  2019-02-05|2019-02-06|\n",
      "|3.430663631539430...|Colombo Proper|  2019-02-06|2019-02-07|\n",
      "|2.123314538243048E-4|Colombo Proper|  2019-02-07|2019-02-08|\n",
      "|1.679798012516793E-4|Colombo Proper|  2019-02-08|2019-02-09|\n",
      "| 3.81605036888715E-4|Colombo Proper|  2019-02-09|2019-02-10|\n",
      "|2.650819171274837...|Colombo Proper|  2019-02-10|2019-02-11|\n",
      "|1.981789630254356E-4|Colombo Proper|  2019-02-11|2019-02-12|\n",
      "|5.858717850060201...|Colombo Proper|  2019-02-12|2019-02-13|\n",
      "|2.542805951476315...|Colombo Proper|  2019-02-13|2019-02-14|\n",
      "|2.542805951476315...|Colombo Proper|  2019-02-14|2019-02-15|\n",
      "|2.239912172577585E-4|Colombo Proper|  2019-02-15|2019-02-16|\n",
      "|2.091493159849644...|Colombo Proper|  2019-02-16|2019-02-17|\n",
      "|1.262731392288914E-4|Colombo Proper|  2019-02-17|2019-02-18|\n",
      "|2.255146318446467...|Colombo Proper|  2019-02-18|2019-02-19|\n",
      "|3.180786698506332...|Colombo Proper|  2019-02-19|2019-02-20|\n",
      "|2.720768387394868E-4|Colombo Proper|  2019-02-20|2019-02-21|\n",
      "|2.230429464187653E-4|Colombo Proper|  2019-02-21|2019-02-22|\n",
      "|3.148949841717713E-4|Colombo Proper|  2019-02-22|2019-02-23|\n",
      "|3.274182238715349E-4|Colombo Proper|  2019-02-23|2019-02-24|\n",
      "|2.362989851716369...|Colombo Proper|  2019-02-24|2019-02-25|\n",
      "|2.424675429303956...|Colombo Proper|  2019-02-25|2019-02-26|\n",
      "|1.564597489260421...|Colombo Proper|  2019-02-26|2019-02-27|\n",
      "|1.542016842877319...|Colombo Proper|  2019-02-27|2019-02-28|\n",
      "|2.270067709833573...|Colombo Proper|  2019-02-28|2019-03-01|\n",
      "|2.270067709833573...|Colombo Proper|  2019-03-01|2019-03-02|\n",
      "|2.270067709833573...|Colombo Proper|  2019-03-02|2019-03-03|\n",
      "|2.934140276437700...|Colombo Proper|  2019-03-03|2019-03-04|\n",
      "|2.222321497741398...|Colombo Proper|  2019-03-04|2019-03-05|\n",
      "|4.259884693025736...|Colombo Proper|  2019-03-05|2019-03-06|\n",
      "|1.358519584920060...|Colombo Proper|  2019-03-06|2019-03-07|\n",
      "|2.023807303628845...|Colombo Proper|  2019-03-07|2019-03-08|\n",
      "|1.644238164367392...|Colombo Proper|  2019-03-08|2019-03-09|\n",
      "|1.644238164367392...|Colombo Proper|  2019-03-09|2019-03-10|\n",
      "|2.969609827467505E-4|Colombo Proper|  2019-03-10|2019-03-11|\n",
      "|2.401309050569976...|Colombo Proper|  2019-03-11|2019-03-12|\n",
      "|2.577451751777237E-4|Colombo Proper|  2019-03-12|2019-03-13|\n",
      "|2.548286008604607E-4|Colombo Proper|  2019-03-13|2019-03-14|\n",
      "|3.018449398759976E-4|Colombo Proper|  2019-03-14|2019-03-15|\n",
      "|1.790542755015718...|Colombo Proper|  2019-03-15|2019-03-16|\n",
      "|3.507194301071738E-4|Colombo Proper|  2019-03-16|2019-03-17|\n",
      "|2.494769497451432E-4|Colombo Proper|  2019-03-17|2019-03-18|\n",
      "|2.494769497451432E-4|Colombo Proper|  2019-03-18|2019-03-19|\n",
      "|2.074590335083668...|Colombo Proper|  2019-03-19|2019-03-20|\n",
      "|2.559950022304003E-4|Colombo Proper|  2019-03-20|2019-03-21|\n",
      "|2.559950022304003E-4|Colombo Proper|  2019-03-21|2019-03-22|\n",
      "|2.689655073385781E-4|Colombo Proper|  2019-03-22|2019-03-23|\n",
      "|1.440055508380318...|Colombo Proper|  2019-03-23|2019-03-24|\n",
      "|2.204458373225478...|Colombo Proper|  2019-03-24|2019-03-25|\n",
      "|3.577663287879659E-4|Colombo Proper|  2019-03-25|2019-03-26|\n",
      "|2.631266925609883E-4|Colombo Proper|  2019-03-26|2019-03-27|\n",
      "|3.646052956171703E-4|Colombo Proper|  2019-03-27|2019-03-28|\n",
      "|3.906452278091737...|Colombo Proper|  2019-03-28|2019-03-29|\n",
      "|2.540006405394258E-4|Colombo Proper|  2019-03-29|2019-03-30|\n",
      "|2.202186895424861...|Colombo Proper|  2019-03-30|2019-03-31|\n",
      "|1.155774606754469...|Colombo Proper|  2019-03-31|2019-04-01|\n",
      "|1.234932174866924...|Colombo Proper|  2019-04-01|2019-04-02|\n",
      "|2.688230247372582E-4|Colombo Proper|  2019-04-02|2019-04-03|\n",
      "|2.688230247372582E-4|Colombo Proper|  2019-04-03|2019-04-04|\n",
      "|2.401417063094139...|Colombo Proper|  2019-04-04|2019-04-05|\n",
      "|1.694011577926113...|Colombo Proper|  2019-04-05|2019-04-06|\n",
      "|1.030405027441702...|Colombo Proper|  2019-04-06|2019-04-07|\n",
      "|1.799434891600914E-4|Colombo Proper|  2019-04-07|2019-04-08|\n",
      "|1.938136388473303E-4|Colombo Proper|  2019-04-08|2019-04-09|\n",
      "|2.005766244694444E-4|Colombo Proper|  2019-04-09|2019-04-10|\n",
      "|2.045066130365929...|Colombo Proper|  2019-04-10|2019-04-11|\n",
      "+--------------------+--------------+------------+----------+\n",
      "only showing top 100 rows\n",
      "\n"
     ]
    },
    {
     "data": {
      "text/plain": [
       "{'HCHO reading': 0, 'Location': 0, 'Current Date': 0, 'Next Date': 0}"
      ]
     },
     "execution_count": 22,
     "metadata": {},
     "output_type": "execute_result"
    }
   ],
   "source": [
    "import pandas as pd\n",
    "\n",
    "pandas_df = df.toPandas()\n",
    "\n",
    "# Forward fill null values\n",
    "pandas_df['HCHO reading'] = pandas_df['HCHO reading'].fillna(method='ffill')\n",
    "\n",
    "# Convert back to PySpark DataFrame\n",
    "hcho_df = spark.createDataFrame(pandas_df)\n",
    "\n",
    "hcho_df.show(100)\n",
    "\n",
    "missingValues(hcho_df)"
   ]
  },
  {
   "cell_type": "code",
   "execution_count": null,
   "metadata": {},
   "outputs": [],
   "source": []
  }
 ],
 "metadata": {
  "kernelspec": {
   "display_name": "Python 3",
   "language": "python",
   "name": "python3"
  },
  "language_info": {
   "codemirror_mode": {
    "name": "ipython",
    "version": 3
   },
   "file_extension": ".py",
   "mimetype": "text/x-python",
   "name": "python",
   "nbconvert_exporter": "python",
   "pygments_lexer": "ipython3",
   "version": "3.9.6"
  }
 },
 "nbformat": 4,
 "nbformat_minor": 2
}
