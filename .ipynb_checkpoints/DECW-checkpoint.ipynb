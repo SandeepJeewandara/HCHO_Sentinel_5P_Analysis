{
  "nbformat": 4,
  "nbformat_minor": 0,
  "metadata": {
    "colab": {
      "provenance": []
    },
    "kernelspec": {
      "name": "python3",
      "display_name": "Python 3"
    },
    "language_info": {
      "name": "python"
    }
  },
  "cells": [
    {
      "cell_type": "code",
      "execution_count": null,
      "metadata": {
        "colab": {
          "base_uri": "https://localhost:8080/"
        },
        "id": "DnJD7AzqTWkA",
        "outputId": "98c42ef0-b688-4f85-833f-070edf765b24"
      },
      "outputs": [
        {
          "output_type": "stream",
          "name": "stdout",
          "text": [
            "Collecting pyspark\n",
            "  Downloading pyspark-3.5.1.tar.gz (317.0 MB)\n",
            "\u001b[2K     \u001b[90m━━━━━━━━━━━━━━━━━━━━━━━━━━━━━━━━━━━━━━━━\u001b[0m \u001b[32m317.0/317.0 MB\u001b[0m \u001b[31m3.3 MB/s\u001b[0m eta \u001b[36m0:00:00\u001b[0m\n",
            "\u001b[?25h  Preparing metadata (setup.py) ... \u001b[?25l\u001b[?25hdone\n",
            "Requirement already satisfied: py4j==0.10.9.7 in /usr/local/lib/python3.10/dist-packages (from pyspark) (0.10.9.7)\n",
            "Building wheels for collected packages: pyspark\n",
            "  Building wheel for pyspark (setup.py) ... \u001b[?25l\u001b[?25hdone\n",
            "  Created wheel for pyspark: filename=pyspark-3.5.1-py2.py3-none-any.whl size=317488491 sha256=38cbe8acdcad99458bac982874002bcb719751fe2ea6fb58b8ea10c1b53183fa\n",
            "  Stored in directory: /root/.cache/pip/wheels/80/1d/60/2c256ed38dddce2fdd93be545214a63e02fbd8d74fb0b7f3a6\n",
            "Successfully built pyspark\n",
            "Installing collected packages: pyspark\n",
            "Successfully installed pyspark-3.5.1\n",
            "The following additional packages will be installed:\n",
            "  libxtst6 openjdk-8-jre-headless\n",
            "Suggested packages:\n",
            "  openjdk-8-demo openjdk-8-source libnss-mdns fonts-dejavu-extra fonts-nanum fonts-ipafont-gothic\n",
            "  fonts-ipafont-mincho fonts-wqy-microhei fonts-wqy-zenhei fonts-indic\n",
            "The following NEW packages will be installed:\n",
            "  libxtst6 openjdk-8-jdk-headless openjdk-8-jre-headless\n",
            "0 upgraded, 3 newly installed, 0 to remove and 45 not upgraded.\n",
            "Need to get 39.7 MB of archives.\n",
            "After this operation, 144 MB of additional disk space will be used.\n",
            "Selecting previously unselected package libxtst6:amd64.\n",
            "(Reading database ... 121752 files and directories currently installed.)\n",
            "Preparing to unpack .../libxtst6_2%3a1.2.3-1build4_amd64.deb ...\n",
            "Unpacking libxtst6:amd64 (2:1.2.3-1build4) ...\n",
            "Selecting previously unselected package openjdk-8-jre-headless:amd64.\n",
            "Preparing to unpack .../openjdk-8-jre-headless_8u402-ga-2ubuntu1~22.04_amd64.deb ...\n",
            "Unpacking openjdk-8-jre-headless:amd64 (8u402-ga-2ubuntu1~22.04) ...\n",
            "Selecting previously unselected package openjdk-8-jdk-headless:amd64.\n",
            "Preparing to unpack .../openjdk-8-jdk-headless_8u402-ga-2ubuntu1~22.04_amd64.deb ...\n",
            "Unpacking openjdk-8-jdk-headless:amd64 (8u402-ga-2ubuntu1~22.04) ...\n",
            "Setting up libxtst6:amd64 (2:1.2.3-1build4) ...\n",
            "Setting up openjdk-8-jre-headless:amd64 (8u402-ga-2ubuntu1~22.04) ...\n",
            "update-alternatives: using /usr/lib/jvm/java-8-openjdk-amd64/jre/bin/orbd to provide /usr/bin/orbd (orbd) in auto mode\n",
            "update-alternatives: using /usr/lib/jvm/java-8-openjdk-amd64/jre/bin/servertool to provide /usr/bin/servertool (servertool) in auto mode\n",
            "update-alternatives: using /usr/lib/jvm/java-8-openjdk-amd64/jre/bin/tnameserv to provide /usr/bin/tnameserv (tnameserv) in auto mode\n",
            "Setting up openjdk-8-jdk-headless:amd64 (8u402-ga-2ubuntu1~22.04) ...\n",
            "update-alternatives: using /usr/lib/jvm/java-8-openjdk-amd64/bin/clhsdb to provide /usr/bin/clhsdb (clhsdb) in auto mode\n",
            "update-alternatives: using /usr/lib/jvm/java-8-openjdk-amd64/bin/extcheck to provide /usr/bin/extcheck (extcheck) in auto mode\n",
            "update-alternatives: using /usr/lib/jvm/java-8-openjdk-amd64/bin/hsdb to provide /usr/bin/hsdb (hsdb) in auto mode\n",
            "update-alternatives: using /usr/lib/jvm/java-8-openjdk-amd64/bin/idlj to provide /usr/bin/idlj (idlj) in auto mode\n",
            "update-alternatives: using /usr/lib/jvm/java-8-openjdk-amd64/bin/javah to provide /usr/bin/javah (javah) in auto mode\n",
            "update-alternatives: using /usr/lib/jvm/java-8-openjdk-amd64/bin/jhat to provide /usr/bin/jhat (jhat) in auto mode\n",
            "update-alternatives: using /usr/lib/jvm/java-8-openjdk-amd64/bin/jsadebugd to provide /usr/bin/jsadebugd (jsadebugd) in auto mode\n",
            "update-alternatives: using /usr/lib/jvm/java-8-openjdk-amd64/bin/native2ascii to provide /usr/bin/native2ascii (native2ascii) in auto mode\n",
            "update-alternatives: using /usr/lib/jvm/java-8-openjdk-amd64/bin/schemagen to provide /usr/bin/schemagen (schemagen) in auto mode\n",
            "update-alternatives: using /usr/lib/jvm/java-8-openjdk-amd64/bin/wsgen to provide /usr/bin/wsgen (wsgen) in auto mode\n",
            "update-alternatives: using /usr/lib/jvm/java-8-openjdk-amd64/bin/wsimport to provide /usr/bin/wsimport (wsimport) in auto mode\n",
            "update-alternatives: using /usr/lib/jvm/java-8-openjdk-amd64/bin/xjc to provide /usr/bin/xjc (xjc) in auto mode\n",
            "Processing triggers for libc-bin (2.35-0ubuntu3.4) ...\n",
            "/sbin/ldconfig.real: /usr/local/lib/libtbbmalloc.so.2 is not a symbolic link\n",
            "\n",
            "/sbin/ldconfig.real: /usr/local/lib/libtbbbind_2_0.so.3 is not a symbolic link\n",
            "\n",
            "/sbin/ldconfig.real: /usr/local/lib/libtbbmalloc_proxy.so.2 is not a symbolic link\n",
            "\n",
            "/sbin/ldconfig.real: /usr/local/lib/libtbb.so.12 is not a symbolic link\n",
            "\n",
            "/sbin/ldconfig.real: /usr/local/lib/libtbbbind_2_5.so.3 is not a symbolic link\n",
            "\n",
            "/sbin/ldconfig.real: /usr/local/lib/libtbbbind.so.3 is not a symbolic link\n",
            "\n"
          ]
        }
      ],
      "source": [
        "!pip install pyspark\n",
        "!pip install -U -q PyDrive\n",
        "!apt install openjdk-8-jdk-headless -qq\n",
        "import os\n",
        "os.environ[\"JAVA_HOME\"] = \"/usr/lib/jvm/java-8-openjdk-amd64\""
      ]
    },
    {
      "cell_type": "code",
      "source": [
        "import pyspark\n",
        "import pyspark.sql  as pyspark_sql\n",
        "import pyspark.sql.types as pyspark_types\n",
        "import pyspark.sql.functions  as pyspark_functions\n",
        "from pyspark import SparkContext, SparkConf\n",
        "#from pyspark.sql.functions import col, sum as pyspark_sum\n"
      ],
      "metadata": {
        "id": "4k-EOgM7TlKc"
      },
      "execution_count": null,
      "outputs": []
    },
    {
      "cell_type": "code",
      "source": [
        "# create the session\n",
        "conf = SparkConf().set(\"spark.ui.port\", \"4050\")\n",
        "\n",
        "# create the context\n",
        "sc = pyspark.SparkContext(conf=conf)\n",
        "spark = pyspark_sql.SparkSession.builder.getOrCreate()"
      ],
      "metadata": {
        "id": "uurdmmUQTrvt"
      },
      "execution_count": null,
      "outputs": []
    },
    {
      "cell_type": "code",
      "source": [
        "# Load the dataset\n",
        "data = spark.read.csv(\"/content/col_mat_nuw_output.csv\", header=True, inferSchema=True)\n"
      ],
      "metadata": {
        "id": "zck8z9K1TskK"
      },
      "execution_count": null,
      "outputs": []
    },
    {
      "cell_type": "code",
      "source": [
        "data.printSchema()\n"
      ],
      "metadata": {
        "colab": {
          "base_uri": "https://localhost:8080/"
        },
        "id": "UfayYe1CTxTt",
        "outputId": "332783a7-c38c-4c4c-9a37-29ede3b819dc"
      },
      "execution_count": null,
      "outputs": [
        {
          "output_type": "stream",
          "name": "stdout",
          "text": [
            "root\n",
            " |-- HCHO reading: double (nullable = true)\n",
            " |-- Location: string (nullable = true)\n",
            " |-- Current Date: string (nullable = true)\n",
            " |-- Next Date: string (nullable = true)\n",
            "\n"
          ]
        }
      ]
    },
    {
      "cell_type": "code",
      "source": [
        "data.show()"
      ],
      "metadata": {
        "colab": {
          "base_uri": "https://localhost:8080/"
        },
        "id": "cAdF3f-aVITC",
        "outputId": "09f57959-2c5a-40ad-c2c5-cb83e985497c"
      },
      "execution_count": null,
      "outputs": [
        {
          "output_type": "stream",
          "name": "stdout",
          "text": [
            "+------------+--------------+------------+---------+\n",
            "|HCHO reading|      Location|Current Date|Next Date|\n",
            "+------------+--------------+------------+---------+\n",
            "|  1.96983E-4|Colombo Proper|    1/1/2019| 1/2/2019|\n",
            "|  2.62552E-4|Colombo Proper|    1/2/2019| 1/3/2019|\n",
            "|     9.85E-5|Colombo Proper|    1/3/2019| 1/4/2019|\n",
            "|  2.09932E-4|Colombo Proper|    1/4/2019| 1/5/2019|\n",
            "|  1.78534E-4|Colombo Proper|    1/5/2019| 1/6/2019|\n",
            "|   1.0823E-4|Colombo Proper|    1/6/2019| 1/7/2019|\n",
            "|  3.92683E-4|Colombo Proper|    1/7/2019| 1/8/2019|\n",
            "|     9.15E-5|Colombo Proper|    1/8/2019| 1/9/2019|\n",
            "|  1.20598E-4|Colombo Proper|    1/9/2019|1/10/2019|\n",
            "|  1.29772E-4|Colombo Proper|   1/10/2019|1/11/2019|\n",
            "|  2.23919E-4|Colombo Proper|   1/11/2019|1/12/2019|\n",
            "|  1.56942E-4|Colombo Proper|   1/12/2019|1/13/2019|\n",
            "|        NULL|Colombo Proper|   1/13/2019|1/14/2019|\n",
            "|  1.33629E-4|Colombo Proper|   1/14/2019|1/15/2019|\n",
            "|     6.37E-5|Colombo Proper|   1/15/2019|1/16/2019|\n",
            "|  1.18106E-4|Colombo Proper|   1/16/2019|1/17/2019|\n",
            "|  2.47256E-4|Colombo Proper|   1/17/2019|1/18/2019|\n",
            "|     3.67E-5|Colombo Proper|   1/18/2019|1/19/2019|\n",
            "|   4.0575E-4|Colombo Proper|   1/19/2019|1/20/2019|\n",
            "|  1.68786E-4|Colombo Proper|   1/20/2019|1/21/2019|\n",
            "+------------+--------------+------------+---------+\n",
            "only showing top 20 rows\n",
            "\n"
          ]
        }
      ]
    },
    {
      "cell_type": "code",
      "source": [
        "data.select(\"HCHO reading\").show()"
      ],
      "metadata": {
        "colab": {
          "base_uri": "https://localhost:8080/"
        },
        "id": "mdXqj_reVIB7",
        "outputId": "bf7ad3b9-61d9-45d0-a7ab-ac279ef3c54a"
      },
      "execution_count": null,
      "outputs": [
        {
          "output_type": "stream",
          "name": "stdout",
          "text": [
            "+------------+\n",
            "|HCHO reading|\n",
            "+------------+\n",
            "|  1.96983E-4|\n",
            "|  2.62552E-4|\n",
            "|     9.85E-5|\n",
            "|  2.09932E-4|\n",
            "|  1.78534E-4|\n",
            "|   1.0823E-4|\n",
            "|  3.92683E-4|\n",
            "|     9.15E-5|\n",
            "|  1.20598E-4|\n",
            "|  1.29772E-4|\n",
            "|  2.23919E-4|\n",
            "|  1.56942E-4|\n",
            "|        NULL|\n",
            "|  1.33629E-4|\n",
            "|     6.37E-5|\n",
            "|  1.18106E-4|\n",
            "|  2.47256E-4|\n",
            "|     3.67E-5|\n",
            "|   4.0575E-4|\n",
            "|  1.68786E-4|\n",
            "+------------+\n",
            "only showing top 20 rows\n",
            "\n"
          ]
        }
      ]
    },
    {
      "cell_type": "code",
      "source": [
        "data.filter(data[\"HCHO reading\"].isNull()).count()"
      ],
      "metadata": {
        "colab": {
          "base_uri": "https://localhost:8080/"
        },
        "id": "5KLtjq5nltJ4",
        "outputId": "2862f006-cdbd-494c-9c8c-bd114441f3ed"
      },
      "execution_count": null,
      "outputs": [
        {
          "output_type": "execute_result",
          "data": {
            "text/plain": [
              "2419"
            ]
          },
          "metadata": {},
          "execution_count": 13
        }
      ]
    },
    {
      "cell_type": "code",
      "source": [
        "data.filter(data[\"Location\"] == \"Colombo Proper\").show()"
      ],
      "metadata": {
        "colab": {
          "base_uri": "https://localhost:8080/"
        },
        "id": "q8TYHGXM8bBR",
        "outputId": "c8132466-368f-4fac-b651-5f38cb95d4c4"
      },
      "execution_count": null,
      "outputs": [
        {
          "output_type": "stream",
          "name": "stdout",
          "text": [
            "+------------+--------------+------------+---------+\n",
            "|HCHO reading|      Location|Current Date|Next Date|\n",
            "+------------+--------------+------------+---------+\n",
            "|  1.96983E-4|Colombo Proper|    1/1/2019| 1/2/2019|\n",
            "|  2.62552E-4|Colombo Proper|    1/2/2019| 1/3/2019|\n",
            "|     9.85E-5|Colombo Proper|    1/3/2019| 1/4/2019|\n",
            "|  2.09932E-4|Colombo Proper|    1/4/2019| 1/5/2019|\n",
            "|  1.78534E-4|Colombo Proper|    1/5/2019| 1/6/2019|\n",
            "|   1.0823E-4|Colombo Proper|    1/6/2019| 1/7/2019|\n",
            "|  3.92683E-4|Colombo Proper|    1/7/2019| 1/8/2019|\n",
            "|     9.15E-5|Colombo Proper|    1/8/2019| 1/9/2019|\n",
            "|  1.20598E-4|Colombo Proper|    1/9/2019|1/10/2019|\n",
            "|  1.29772E-4|Colombo Proper|   1/10/2019|1/11/2019|\n",
            "|  2.23919E-4|Colombo Proper|   1/11/2019|1/12/2019|\n",
            "|  1.56942E-4|Colombo Proper|   1/12/2019|1/13/2019|\n",
            "|        NULL|Colombo Proper|   1/13/2019|1/14/2019|\n",
            "|  1.33629E-4|Colombo Proper|   1/14/2019|1/15/2019|\n",
            "|     6.37E-5|Colombo Proper|   1/15/2019|1/16/2019|\n",
            "|  1.18106E-4|Colombo Proper|   1/16/2019|1/17/2019|\n",
            "|  2.47256E-4|Colombo Proper|   1/17/2019|1/18/2019|\n",
            "|     3.67E-5|Colombo Proper|   1/18/2019|1/19/2019|\n",
            "|   4.0575E-4|Colombo Proper|   1/19/2019|1/20/2019|\n",
            "|  1.68786E-4|Colombo Proper|   1/20/2019|1/21/2019|\n",
            "+------------+--------------+------------+---------+\n",
            "only showing top 20 rows\n",
            "\n"
          ]
        }
      ]
    },
    {
      "cell_type": "code",
      "source": [
        "from pyspark.sql import SparkSession\n",
        "from pyspark.sql.functions import col, when\n",
        "from pyspark.sql.window import Window\n",
        "from pyspark.sql.functions import last\n",
        "\n",
        "# Initialize Spark session\n",
        "spark = SparkSession.builder \\\n",
        "    .appName(\"Fill Null Values\") \\\n",
        "    .getOrCreate()\n",
        "\n",
        "# Define the window\n",
        "windowSpec = Window.orderBy().rowsBetween(Window.unboundedPreceding, 0)\n",
        "\n",
        "# Forward fill null values\n",
        "filled_df = data.withColumn(\"HCHO reading\", last(\"HCHO reading\", True).over(windowSpec))\n",
        "\n",
        "filled_df.show(100)\n"
      ],
      "metadata": {
        "colab": {
          "base_uri": "https://localhost:8080/"
        },
        "id": "esjpkNnxJGB7",
        "outputId": "88d1f0f0-68f3-4201-85c0-f414abeb8f26"
      },
      "execution_count": null,
      "outputs": [
        {
          "output_type": "stream",
          "name": "stdout",
          "text": [
            "+------------+--------------+------------+---------+\n",
            "|HCHO reading|      Location|Current Date|Next Date|\n",
            "+------------+--------------+------------+---------+\n",
            "|  1.96983E-4|Colombo Proper|    1/1/2019| 1/2/2019|\n",
            "|  2.62552E-4|Colombo Proper|    1/2/2019| 1/3/2019|\n",
            "|     9.85E-5|Colombo Proper|    1/3/2019| 1/4/2019|\n",
            "|  2.09932E-4|Colombo Proper|    1/4/2019| 1/5/2019|\n",
            "|  1.78534E-4|Colombo Proper|    1/5/2019| 1/6/2019|\n",
            "|   1.0823E-4|Colombo Proper|    1/6/2019| 1/7/2019|\n",
            "|  3.92683E-4|Colombo Proper|    1/7/2019| 1/8/2019|\n",
            "|     9.15E-5|Colombo Proper|    1/8/2019| 1/9/2019|\n",
            "|  1.20598E-4|Colombo Proper|    1/9/2019|1/10/2019|\n",
            "|  1.29772E-4|Colombo Proper|   1/10/2019|1/11/2019|\n",
            "|  2.23919E-4|Colombo Proper|   1/11/2019|1/12/2019|\n",
            "|  1.56942E-4|Colombo Proper|   1/12/2019|1/13/2019|\n",
            "|  1.56942E-4|Colombo Proper|   1/13/2019|1/14/2019|\n",
            "|  1.33629E-4|Colombo Proper|   1/14/2019|1/15/2019|\n",
            "|     6.37E-5|Colombo Proper|   1/15/2019|1/16/2019|\n",
            "|  1.18106E-4|Colombo Proper|   1/16/2019|1/17/2019|\n",
            "|  2.47256E-4|Colombo Proper|   1/17/2019|1/18/2019|\n",
            "|     3.67E-5|Colombo Proper|   1/18/2019|1/19/2019|\n",
            "|   4.0575E-4|Colombo Proper|   1/19/2019|1/20/2019|\n",
            "|  1.68786E-4|Colombo Proper|   1/20/2019|1/21/2019|\n",
            "+------------+--------------+------------+---------+\n",
            "only showing top 20 rows\n",
            "\n"
          ]
        }
      ]
    },
    {
      "cell_type": "code",
      "source": [
        "filled_df.show(100)"
      ],
      "metadata": {
        "colab": {
          "base_uri": "https://localhost:8080/"
        },
        "id": "X5qLu8XOKNI5",
        "outputId": "50f72853-b677-4cb4-a5c9-8001a8607700"
      },
      "execution_count": null,
      "outputs": [
        {
          "output_type": "stream",
          "name": "stdout",
          "text": [
            "+------------+--------------+------------+---------+\n",
            "|HCHO reading|      Location|Current Date|Next Date|\n",
            "+------------+--------------+------------+---------+\n",
            "|  1.96983E-4|Colombo Proper|    1/1/2019| 1/2/2019|\n",
            "|  2.62552E-4|Colombo Proper|    1/2/2019| 1/3/2019|\n",
            "|     9.85E-5|Colombo Proper|    1/3/2019| 1/4/2019|\n",
            "|  2.09932E-4|Colombo Proper|    1/4/2019| 1/5/2019|\n",
            "|  1.78534E-4|Colombo Proper|    1/5/2019| 1/6/2019|\n",
            "|   1.0823E-4|Colombo Proper|    1/6/2019| 1/7/2019|\n",
            "|  3.92683E-4|Colombo Proper|    1/7/2019| 1/8/2019|\n",
            "|     9.15E-5|Colombo Proper|    1/8/2019| 1/9/2019|\n",
            "|  1.20598E-4|Colombo Proper|    1/9/2019|1/10/2019|\n",
            "|  1.29772E-4|Colombo Proper|   1/10/2019|1/11/2019|\n",
            "|  2.23919E-4|Colombo Proper|   1/11/2019|1/12/2019|\n",
            "|  1.56942E-4|Colombo Proper|   1/12/2019|1/13/2019|\n",
            "|  1.56942E-4|Colombo Proper|   1/13/2019|1/14/2019|\n",
            "|  1.33629E-4|Colombo Proper|   1/14/2019|1/15/2019|\n",
            "|     6.37E-5|Colombo Proper|   1/15/2019|1/16/2019|\n",
            "|  1.18106E-4|Colombo Proper|   1/16/2019|1/17/2019|\n",
            "|  2.47256E-4|Colombo Proper|   1/17/2019|1/18/2019|\n",
            "|     3.67E-5|Colombo Proper|   1/18/2019|1/19/2019|\n",
            "|   4.0575E-4|Colombo Proper|   1/19/2019|1/20/2019|\n",
            "|  1.68786E-4|Colombo Proper|   1/20/2019|1/21/2019|\n",
            "|  3.88155E-4|Colombo Proper|   1/21/2019|1/22/2019|\n",
            "|  3.28292E-4|Colombo Proper|   1/22/2019|1/23/2019|\n",
            "|   2.1478E-4|Colombo Proper|   1/23/2019|1/24/2019|\n",
            "|  2.34725E-4|Colombo Proper|   1/24/2019|1/25/2019|\n",
            "|  2.82092E-4|Colombo Proper|   1/25/2019|1/26/2019|\n",
            "|  2.50726E-4|Colombo Proper|   1/26/2019|1/27/2019|\n",
            "|  1.97329E-4|Colombo Proper|   1/27/2019|1/28/2019|\n",
            "|  2.55512E-4|Colombo Proper|   1/28/2019|1/29/2019|\n",
            "|  2.55512E-4|Colombo Proper|   1/29/2019|1/30/2019|\n",
            "|  1.71364E-4|Colombo Proper|   1/30/2019|1/31/2019|\n",
            "|   1.5238E-4|Colombo Proper|   1/31/2019| 2/1/2019|\n",
            "|  3.53761E-4|Colombo Proper|    2/1/2019| 2/2/2019|\n",
            "|  2.75573E-4|Colombo Proper|    2/2/2019| 2/3/2019|\n",
            "|  2.31885E-4|Colombo Proper|    2/3/2019| 2/4/2019|\n",
            "|  2.31885E-4|Colombo Proper|    2/4/2019| 2/5/2019|\n",
            "|  3.61849E-4|Colombo Proper|    2/5/2019| 2/6/2019|\n",
            "|  3.43066E-4|Colombo Proper|    2/6/2019| 2/7/2019|\n",
            "|  2.12331E-4|Colombo Proper|    2/7/2019| 2/8/2019|\n",
            "|   1.6798E-4|Colombo Proper|    2/8/2019| 2/9/2019|\n",
            "|  3.81605E-4|Colombo Proper|    2/9/2019|2/10/2019|\n",
            "|  2.65082E-4|Colombo Proper|   2/10/2019|2/11/2019|\n",
            "|  1.98179E-4|Colombo Proper|   2/11/2019|2/12/2019|\n",
            "|     5.86E-5|Colombo Proper|   2/12/2019|2/13/2019|\n",
            "|  2.54281E-4|Colombo Proper|   2/13/2019|2/14/2019|\n",
            "|  2.54281E-4|Colombo Proper|   2/14/2019|2/15/2019|\n",
            "|  2.23991E-4|Colombo Proper|   2/15/2019|2/16/2019|\n",
            "|  2.09149E-4|Colombo Proper|   2/16/2019|2/17/2019|\n",
            "|  1.26273E-4|Colombo Proper|   2/17/2019|2/18/2019|\n",
            "|  2.25515E-4|Colombo Proper|   2/18/2019|2/19/2019|\n",
            "|  3.18079E-4|Colombo Proper|   2/19/2019|2/20/2019|\n",
            "|  2.72077E-4|Colombo Proper|   2/20/2019|2/21/2019|\n",
            "|  2.23043E-4|Colombo Proper|   2/21/2019|2/22/2019|\n",
            "|  3.14895E-4|Colombo Proper|   2/22/2019|2/23/2019|\n",
            "|  3.27418E-4|Colombo Proper|   2/23/2019|2/24/2019|\n",
            "|  2.36299E-4|Colombo Proper|   2/24/2019|2/25/2019|\n",
            "|  2.42468E-4|Colombo Proper|   2/25/2019|2/26/2019|\n",
            "|   1.5646E-4|Colombo Proper|   2/26/2019|2/27/2019|\n",
            "|  1.54202E-4|Colombo Proper|   2/27/2019|2/28/2019|\n",
            "|  2.27007E-4|Colombo Proper|   2/28/2019| 3/1/2019|\n",
            "|  2.27007E-4|Colombo Proper|    3/1/2019| 3/2/2019|\n",
            "|  2.27007E-4|Colombo Proper|    3/2/2019| 3/3/2019|\n",
            "|  2.93414E-4|Colombo Proper|    3/3/2019| 3/4/2019|\n",
            "|  2.22232E-4|Colombo Proper|    3/4/2019| 3/5/2019|\n",
            "|  4.25988E-4|Colombo Proper|    3/5/2019| 3/6/2019|\n",
            "|  1.35852E-4|Colombo Proper|    3/6/2019| 3/7/2019|\n",
            "|  2.02381E-4|Colombo Proper|    3/7/2019| 3/8/2019|\n",
            "|  1.64424E-4|Colombo Proper|    3/8/2019| 3/9/2019|\n",
            "|  1.64424E-4|Colombo Proper|    3/9/2019|3/10/2019|\n",
            "|  2.96961E-4|Colombo Proper|   3/10/2019|3/11/2019|\n",
            "|  2.40131E-4|Colombo Proper|   3/11/2019|3/12/2019|\n",
            "|  2.57745E-4|Colombo Proper|   3/12/2019|3/13/2019|\n",
            "|  2.54829E-4|Colombo Proper|   3/13/2019|3/14/2019|\n",
            "|  3.01845E-4|Colombo Proper|   3/14/2019|3/15/2019|\n",
            "|  1.79054E-4|Colombo Proper|   3/15/2019|3/16/2019|\n",
            "|  3.50719E-4|Colombo Proper|   3/16/2019|3/17/2019|\n",
            "|  2.49477E-4|Colombo Proper|   3/17/2019|3/18/2019|\n",
            "|  2.49477E-4|Colombo Proper|   3/18/2019|3/19/2019|\n",
            "|  2.07459E-4|Colombo Proper|   3/19/2019|3/20/2019|\n",
            "|  2.55995E-4|Colombo Proper|   3/20/2019|3/21/2019|\n",
            "|  2.55995E-4|Colombo Proper|   3/21/2019|3/22/2019|\n",
            "|  2.68966E-4|Colombo Proper|   3/22/2019|3/23/2019|\n",
            "|  1.44006E-4|Colombo Proper|   3/23/2019|3/24/2019|\n",
            "|  2.20446E-4|Colombo Proper|   3/24/2019|3/25/2019|\n",
            "|  3.57766E-4|Colombo Proper|   3/25/2019|3/26/2019|\n",
            "|  2.63127E-4|Colombo Proper|   3/26/2019|3/27/2019|\n",
            "|  3.64605E-4|Colombo Proper|   3/27/2019|3/28/2019|\n",
            "|  3.90645E-4|Colombo Proper|   3/28/2019|3/29/2019|\n",
            "|  2.54001E-4|Colombo Proper|   3/29/2019|3/30/2019|\n",
            "|  2.20219E-4|Colombo Proper|   3/30/2019|3/31/2019|\n",
            "|  1.15577E-4|Colombo Proper|   3/31/2019| 4/1/2019|\n",
            "|  1.23493E-4|Colombo Proper|    4/1/2019| 4/2/2019|\n",
            "|  2.68823E-4|Colombo Proper|    4/2/2019| 4/3/2019|\n",
            "|  2.68823E-4|Colombo Proper|    4/3/2019| 4/4/2019|\n",
            "|  2.40142E-4|Colombo Proper|    4/4/2019| 4/5/2019|\n",
            "|  1.69401E-4|Colombo Proper|    4/5/2019| 4/6/2019|\n",
            "|  1.03041E-4|Colombo Proper|    4/6/2019| 4/7/2019|\n",
            "|  1.79943E-4|Colombo Proper|    4/7/2019| 4/8/2019|\n",
            "|  1.93814E-4|Colombo Proper|    4/8/2019| 4/9/2019|\n",
            "|  2.00577E-4|Colombo Proper|    4/9/2019|4/10/2019|\n",
            "|  2.04507E-4|Colombo Proper|   4/10/2019|4/11/2019|\n",
            "+------------+--------------+------------+---------+\n",
            "only showing top 100 rows\n",
            "\n"
          ]
        }
      ]
    },
    {
      "cell_type": "code",
      "source": [
        "data.filter(data[\"HCHO reading\"].isNull()).count()"
      ],
      "metadata": {
        "colab": {
          "base_uri": "https://localhost:8080/"
        },
        "id": "4mcCASfMLSgn",
        "outputId": "0e9ce1bc-4c36-4b65-c681-26d08cb7fbb8"
      },
      "execution_count": null,
      "outputs": [
        {
          "output_type": "execute_result",
          "data": {
            "text/plain": [
              "2419"
            ]
          },
          "metadata": {},
          "execution_count": 14
        }
      ]
    },
    {
      "cell_type": "code",
      "source": [
        "filled_df.filter(filled_df[\"HCHO reading\"].isNull()).count()"
      ],
      "metadata": {
        "colab": {
          "base_uri": "https://localhost:8080/"
        },
        "id": "AhuQrHkULThv",
        "outputId": "114fcae7-8108-4c57-8dc0-a1ac277f1eda"
      },
      "execution_count": null,
      "outputs": [
        {
          "output_type": "execute_result",
          "data": {
            "text/plain": [
              "0"
            ]
          },
          "metadata": {},
          "execution_count": 15
        }
      ]
    },
    {
      "cell_type": "code",
      "source": [
        "# Specify the path where you want to save the CSV file\n",
        "output_path = \"/content/imputed_data11.csv\"\n",
        "\n",
        "# Save the DataFrame to CSV\n",
        "filled_df.write.csv(output_path, header=True)\n"
      ],
      "metadata": {
        "id": "WVDYt8N7Lwfl"
      },
      "execution_count": null,
      "outputs": []
    },
    {
      "cell_type": "markdown",
      "source": [
        "kan dataset"
      ],
      "metadata": {
        "id": "Xpa_OTryPinV"
      }
    },
    {
      "cell_type": "code",
      "source": [
        "# Load the dataset\n",
        "data2 = spark.read.csv(\"/content/kan_output.csv\", header=True, inferSchema=True)\n"
      ],
      "metadata": {
        "id": "LQeQHqaSNCNt"
      },
      "execution_count": null,
      "outputs": []
    },
    {
      "cell_type": "code",
      "source": [
        "data2.printSchema()"
      ],
      "metadata": {
        "colab": {
          "base_uri": "https://localhost:8080/"
        },
        "id": "twTH6-VMNCKT",
        "outputId": "fe51c9f3-ea45-4d1a-b939-ba3cf3d581e3"
      },
      "execution_count": null,
      "outputs": [
        {
          "output_type": "stream",
          "name": "stdout",
          "text": [
            "root\n",
            " |-- HCHO reading: double (nullable = true)\n",
            " |-- Location: string (nullable = true)\n",
            " |-- Current Date: string (nullable = true)\n",
            " |-- Next Date: string (nullable = true)\n",
            "\n"
          ]
        }
      ]
    },
    {
      "cell_type": "code",
      "source": [
        "data2.filter(data2[\"HCHO reading\"].isNull()).count()"
      ],
      "metadata": {
        "colab": {
          "base_uri": "https://localhost:8080/"
        },
        "id": "B0Gj6DP-NCHp",
        "outputId": "d4513816-87be-405a-cd1b-07b4ef440ae4"
      },
      "execution_count": null,
      "outputs": [
        {
          "output_type": "execute_result",
          "data": {
            "text/plain": [
              "793"
            ]
          },
          "metadata": {},
          "execution_count": 6
        }
      ]
    },
    {
      "cell_type": "code",
      "source": [
        "from pyspark.sql import SparkSession\n",
        "from pyspark.sql.functions import col, when\n",
        "from pyspark.sql.window import Window\n",
        "from pyspark.sql.functions import last\n",
        "\n",
        "# Initialize Spark session\n",
        "spark = SparkSession.builder \\\n",
        "    .appName(\"Fill Null Values\") \\\n",
        "    .getOrCreate()\n",
        "\n",
        "# Define the window\n",
        "windowSpec = Window.orderBy().rowsBetween(Window.unboundedPreceding, 0)\n",
        "\n",
        "# Forward fill null values\n",
        "filled_df2 = data2.withColumn(\"HCHO reading\", last(\"HCHO reading\", True).over(windowSpec))\n",
        "\n",
        "filled_df2.show(100)\n"
      ],
      "metadata": {
        "colab": {
          "base_uri": "https://localhost:8080/"
        },
        "id": "uQoHI7WiNCE9",
        "outputId": "fb9a88d8-1823-43bc-f0cf-8d6e83aa8589"
      },
      "execution_count": null,
      "outputs": [
        {
          "output_type": "stream",
          "name": "stdout",
          "text": [
            "+------------+------------+------------+---------+\n",
            "|HCHO reading|    Location|Current Date|Next Date|\n",
            "+------------+------------+------------+---------+\n",
            "|  1.76071E-4|Kandy Proper|    1/1/2019| 1/2/2019|\n",
            "|     9.22E-5|Kandy Proper|    1/2/2019| 1/3/2019|\n",
            "|     9.22E-5|Kandy Proper|    1/3/2019| 1/4/2019|\n",
            "|  1.90868E-4|Kandy Proper|    1/4/2019| 1/5/2019|\n",
            "|  1.21952E-4|Kandy Proper|    1/5/2019| 1/6/2019|\n",
            "|    -6.51E-5|Kandy Proper|    1/6/2019| 1/7/2019|\n",
            "|  1.63238E-4|Kandy Proper|    1/7/2019| 1/8/2019|\n",
            "|    -6.74E-5|Kandy Proper|    1/8/2019| 1/9/2019|\n",
            "|  1.27969E-4|Kandy Proper|    1/9/2019|1/10/2019|\n",
            "|     4.55E-5|Kandy Proper|   1/10/2019|1/11/2019|\n",
            "|      3.6E-5|Kandy Proper|   1/11/2019|1/12/2019|\n",
            "|  1.28663E-4|Kandy Proper|   1/12/2019|1/13/2019|\n",
            "|  1.28663E-4|Kandy Proper|   1/13/2019|1/14/2019|\n",
            "|  1.28663E-4|Kandy Proper|   1/14/2019|1/15/2019|\n",
            "|     9.64E-5|Kandy Proper|   1/15/2019|1/16/2019|\n",
            "|     9.64E-5|Kandy Proper|   1/16/2019|1/17/2019|\n",
            "|  1.20097E-4|Kandy Proper|   1/17/2019|1/18/2019|\n",
            "| -1.19725E-4|Kandy Proper|   1/18/2019|1/19/2019|\n",
            "|  2.82526E-4|Kandy Proper|   1/19/2019|1/20/2019|\n",
            "|     7.15E-5|Kandy Proper|   1/20/2019|1/21/2019|\n",
            "|  2.83374E-4|Kandy Proper|   1/21/2019|1/22/2019|\n",
            "|  2.65941E-4|Kandy Proper|   1/22/2019|1/23/2019|\n",
            "|     5.86E-5|Kandy Proper|   1/23/2019|1/24/2019|\n",
            "|    -3.94E-6|Kandy Proper|   1/24/2019|1/25/2019|\n",
            "|  1.09293E-4|Kandy Proper|   1/25/2019|1/26/2019|\n",
            "|     7.04E-5|Kandy Proper|   1/26/2019|1/27/2019|\n",
            "|  1.64706E-4|Kandy Proper|   1/27/2019|1/28/2019|\n",
            "|  1.13018E-4|Kandy Proper|   1/28/2019|1/29/2019|\n",
            "|  1.14127E-4|Kandy Proper|   1/29/2019|1/30/2019|\n",
            "|     -3.0E-5|Kandy Proper|   1/30/2019|1/31/2019|\n",
            "|     1.51E-5|Kandy Proper|   1/31/2019| 2/1/2019|\n",
            "|     9.51E-5|Kandy Proper|    2/1/2019| 2/2/2019|\n",
            "|     3.07E-5|Kandy Proper|    2/2/2019| 2/3/2019|\n",
            "|     3.07E-5|Kandy Proper|    2/3/2019| 2/4/2019|\n",
            "|     3.07E-5|Kandy Proper|    2/4/2019| 2/5/2019|\n",
            "|     3.07E-5|Kandy Proper|    2/5/2019| 2/6/2019|\n",
            "|     3.52E-5|Kandy Proper|    2/6/2019| 2/7/2019|\n",
            "|  1.44733E-4|Kandy Proper|    2/7/2019| 2/8/2019|\n",
            "|     7.65E-5|Kandy Proper|    2/8/2019| 2/9/2019|\n",
            "|     7.65E-5|Kandy Proper|    2/9/2019|2/10/2019|\n",
            "|     7.65E-5|Kandy Proper|   2/10/2019|2/11/2019|\n",
            "|     6.34E-5|Kandy Proper|   2/11/2019|2/12/2019|\n",
            "|      6.1E-5|Kandy Proper|   2/12/2019|2/13/2019|\n",
            "|      6.1E-5|Kandy Proper|   2/13/2019|2/14/2019|\n",
            "|      6.1E-5|Kandy Proper|   2/14/2019|2/15/2019|\n",
            "|     1.87E-5|Kandy Proper|   2/15/2019|2/16/2019|\n",
            "|     1.87E-5|Kandy Proper|   2/16/2019|2/17/2019|\n",
            "|  1.52574E-4|Kandy Proper|   2/17/2019|2/18/2019|\n",
            "|  1.31606E-4|Kandy Proper|   2/18/2019|2/19/2019|\n",
            "|      5.4E-5|Kandy Proper|   2/19/2019|2/20/2019|\n",
            "|     3.13E-5|Kandy Proper|   2/20/2019|2/21/2019|\n",
            "|    -1.98E-6|Kandy Proper|   2/21/2019|2/22/2019|\n",
            "|  1.14891E-4|Kandy Proper|   2/22/2019|2/23/2019|\n",
            "|  2.11879E-4|Kandy Proper|   2/23/2019|2/24/2019|\n",
            "|     3.66E-5|Kandy Proper|   2/24/2019|2/25/2019|\n",
            "|     4.49E-5|Kandy Proper|   2/25/2019|2/26/2019|\n",
            "|     4.49E-5|Kandy Proper|   2/26/2019|2/27/2019|\n",
            "|     4.49E-5|Kandy Proper|   2/27/2019|2/28/2019|\n",
            "|     4.49E-5|Kandy Proper|   2/28/2019| 3/1/2019|\n",
            "|     4.49E-5|Kandy Proper|    3/1/2019| 3/2/2019|\n",
            "|  1.13649E-4|Kandy Proper|    3/2/2019| 3/3/2019|\n",
            "|  1.12062E-4|Kandy Proper|    3/3/2019| 3/4/2019|\n",
            "|  2.53055E-4|Kandy Proper|    3/4/2019| 3/5/2019|\n",
            "|  2.32665E-4|Kandy Proper|    3/5/2019| 3/6/2019|\n",
            "|  1.28405E-4|Kandy Proper|    3/6/2019| 3/7/2019|\n",
            "|  1.64611E-4|Kandy Proper|    3/7/2019| 3/8/2019|\n",
            "|  1.77512E-4|Kandy Proper|    3/8/2019| 3/9/2019|\n",
            "|  1.77512E-4|Kandy Proper|    3/9/2019|3/10/2019|\n",
            "|  1.13804E-4|Kandy Proper|   3/10/2019|3/11/2019|\n",
            "|  1.63892E-4|Kandy Proper|   3/11/2019|3/12/2019|\n",
            "|  1.76408E-4|Kandy Proper|   3/12/2019|3/13/2019|\n",
            "|     4.22E-5|Kandy Proper|   3/13/2019|3/14/2019|\n",
            "|  1.62008E-4|Kandy Proper|   3/14/2019|3/15/2019|\n",
            "|  1.10414E-4|Kandy Proper|   3/15/2019|3/16/2019|\n",
            "|  1.98184E-4|Kandy Proper|   3/16/2019|3/17/2019|\n",
            "|  1.83151E-4|Kandy Proper|   3/17/2019|3/18/2019|\n",
            "|    -4.02E-5|Kandy Proper|   3/18/2019|3/19/2019|\n",
            "|  2.06753E-4|Kandy Proper|   3/19/2019|3/20/2019|\n",
            "|  1.47388E-4|Kandy Proper|   3/20/2019|3/21/2019|\n",
            "|  1.47388E-4|Kandy Proper|   3/21/2019|3/22/2019|\n",
            "|  1.79046E-4|Kandy Proper|   3/22/2019|3/23/2019|\n",
            "|  1.79046E-4|Kandy Proper|   3/23/2019|3/24/2019|\n",
            "|  2.47192E-4|Kandy Proper|   3/24/2019|3/25/2019|\n",
            "|  2.19244E-4|Kandy Proper|   3/25/2019|3/26/2019|\n",
            "|     9.91E-5|Kandy Proper|   3/26/2019|3/27/2019|\n",
            "|  2.33303E-4|Kandy Proper|   3/27/2019|3/28/2019|\n",
            "|  2.80242E-4|Kandy Proper|   3/28/2019|3/29/2019|\n",
            "|  3.58996E-4|Kandy Proper|   3/29/2019|3/30/2019|\n",
            "|  1.79015E-4|Kandy Proper|   3/30/2019|3/31/2019|\n",
            "|  2.92723E-4|Kandy Proper|   3/31/2019| 4/1/2019|\n",
            "|  3.09921E-4|Kandy Proper|    4/1/2019| 4/2/2019|\n",
            "|  1.70795E-4|Kandy Proper|    4/2/2019| 4/3/2019|\n",
            "|  2.42771E-4|Kandy Proper|    4/3/2019| 4/4/2019|\n",
            "|  2.33805E-4|Kandy Proper|    4/4/2019| 4/5/2019|\n",
            "|  1.62753E-4|Kandy Proper|    4/5/2019| 4/6/2019|\n",
            "|   1.7252E-4|Kandy Proper|    4/6/2019| 4/7/2019|\n",
            "|  2.70485E-4|Kandy Proper|    4/7/2019| 4/8/2019|\n",
            "|  2.63223E-4|Kandy Proper|    4/8/2019| 4/9/2019|\n",
            "|  2.20327E-4|Kandy Proper|    4/9/2019|4/10/2019|\n",
            "|  2.20327E-4|Kandy Proper|   4/10/2019|4/11/2019|\n",
            "+------------+------------+------------+---------+\n",
            "only showing top 100 rows\n",
            "\n"
          ]
        }
      ]
    },
    {
      "cell_type": "code",
      "source": [
        "filled_df2.write.csv(\"/content/newout.csv\", header=True)\n"
      ],
      "metadata": {
        "id": "li1ArT4XNCCX"
      },
      "execution_count": null,
      "outputs": []
    },
    {
      "cell_type": "code",
      "source": [
        "# Load the dataset\n",
        "data3 = spark.read.csv(\"/content/mon_kur_jaf_output.csv\", header=True, inferSchema=True)\n"
      ],
      "metadata": {
        "id": "6_sAO-YJNB_-"
      },
      "execution_count": null,
      "outputs": []
    },
    {
      "cell_type": "code",
      "source": [
        "data3.printSchema()"
      ],
      "metadata": {
        "colab": {
          "base_uri": "https://localhost:8080/"
        },
        "id": "4THYtu9aNB9C",
        "outputId": "367ae182-e9bd-4c83-b009-a1902aff6828"
      },
      "execution_count": null,
      "outputs": [
        {
          "output_type": "stream",
          "name": "stdout",
          "text": [
            "root\n",
            " |-- HCHO reading: double (nullable = true)\n",
            " |-- Location: string (nullable = true)\n",
            " |-- Current Date: string (nullable = true)\n",
            " |-- Next Date: string (nullable = true)\n",
            "\n"
          ]
        }
      ]
    },
    {
      "cell_type": "code",
      "source": [
        "data3.filter(data3[\"HCHO reading\"].isNull()).count()"
      ],
      "metadata": {
        "colab": {
          "base_uri": "https://localhost:8080/"
        },
        "id": "tteCjuDwNB6V",
        "outputId": "a97d39b7-d2e8-4fdc-c30a-353902690fef"
      },
      "execution_count": null,
      "outputs": [
        {
          "output_type": "execute_result",
          "data": {
            "text/plain": [
              "1652"
            ]
          },
          "metadata": {},
          "execution_count": 16
        }
      ]
    },
    {
      "cell_type": "code",
      "source": [
        "from pyspark.sql import SparkSession\n",
        "from pyspark.sql.functions import col, when\n",
        "from pyspark.sql.window import Window\n",
        "from pyspark.sql.functions import last\n",
        "\n",
        "# Initialize Spark session\n",
        "spark = SparkSession.builder \\\n",
        "    .appName(\"Fill Null Values\") \\\n",
        "    .getOrCreate()\n",
        "\n",
        "# Define the window\n",
        "windowSpec = Window.orderBy().rowsBetween(Window.unboundedPreceding, 0)\n",
        "\n",
        "# Forward fill null values\n",
        "filled_df3 = data3.withColumn(\"HCHO reading\", last(\"HCHO reading\", True).over(windowSpec))\n",
        "\n",
        "filled_df3.show(100)\n"
      ],
      "metadata": {
        "colab": {
          "base_uri": "https://localhost:8080/"
        },
        "id": "X7yCtTNfNBxS",
        "outputId": "d9cee07c-7c07-4987-d4ab-d8bbca90274d"
      },
      "execution_count": null,
      "outputs": [
        {
          "output_type": "stream",
          "name": "stdout",
          "text": [
            "+------------+------------------+------------+---------+\n",
            "|HCHO reading|          Location|Current Date|Next Date|\n",
            "+------------+------------------+------------+---------+\n",
            "|        NULL|Bibile, Monaragala|    1/1/2019| 1/2/2019|\n",
            "|     1.92E-5|Bibile, Monaragala|    1/2/2019| 1/3/2019|\n",
            "|     2.81E-5|Bibile, Monaragala|    1/3/2019| 1/4/2019|\n",
            "|     3.75E-5|Bibile, Monaragala|    1/4/2019| 1/5/2019|\n",
            "|     -1.8E-5|Bibile, Monaragala|    1/5/2019| 1/6/2019|\n",
            "|  1.45784E-4|Bibile, Monaragala|    1/6/2019| 1/7/2019|\n",
            "|     2.83E-5|Bibile, Monaragala|    1/7/2019| 1/8/2019|\n",
            "|     2.83E-5|Bibile, Monaragala|    1/8/2019| 1/9/2019|\n",
            "|  1.42085E-4|Bibile, Monaragala|    1/9/2019|1/10/2019|\n",
            "|  1.42085E-4|Bibile, Monaragala|   1/10/2019|1/11/2019|\n",
            "|     2.01E-5|Bibile, Monaragala|   1/11/2019|1/12/2019|\n",
            "|  1.58279E-4|Bibile, Monaragala|   1/12/2019|1/13/2019|\n",
            "|  1.58279E-4|Bibile, Monaragala|   1/13/2019|1/14/2019|\n",
            "|  1.58279E-4|Bibile, Monaragala|   1/14/2019|1/15/2019|\n",
            "|     9.95E-5|Bibile, Monaragala|   1/15/2019|1/16/2019|\n",
            "|     7.48E-5|Bibile, Monaragala|   1/16/2019|1/17/2019|\n",
            "|     7.74E-5|Bibile, Monaragala|   1/17/2019|1/18/2019|\n",
            "|     7.74E-5|Bibile, Monaragala|   1/18/2019|1/19/2019|\n",
            "|     3.99E-5|Bibile, Monaragala|   1/19/2019|1/20/2019|\n",
            "|  1.89162E-4|Bibile, Monaragala|   1/20/2019|1/21/2019|\n",
            "|  1.15997E-4|Bibile, Monaragala|   1/21/2019|1/22/2019|\n",
            "|  1.41352E-4|Bibile, Monaragala|   1/22/2019|1/23/2019|\n",
            "|     7.17E-5|Bibile, Monaragala|   1/23/2019|1/24/2019|\n",
            "|     7.17E-5|Bibile, Monaragala|   1/24/2019|1/25/2019|\n",
            "|    -2.86E-5|Bibile, Monaragala|   1/25/2019|1/26/2019|\n",
            "|    -2.86E-5|Bibile, Monaragala|   1/26/2019|1/27/2019|\n",
            "|  1.80567E-4|Bibile, Monaragala|   1/27/2019|1/28/2019|\n",
            "|     9.11E-5|Bibile, Monaragala|   1/28/2019|1/29/2019|\n",
            "|     7.24E-5|Bibile, Monaragala|   1/29/2019|1/30/2019|\n",
            "|     7.24E-5|Bibile, Monaragala|   1/30/2019|1/31/2019|\n",
            "|      4.1E-5|Bibile, Monaragala|   1/31/2019| 2/1/2019|\n",
            "|     5.19E-5|Bibile, Monaragala|    2/1/2019| 2/2/2019|\n",
            "|     5.19E-5|Bibile, Monaragala|    2/2/2019| 2/3/2019|\n",
            "|     5.19E-5|Bibile, Monaragala|    2/3/2019| 2/4/2019|\n",
            "|     5.19E-5|Bibile, Monaragala|    2/4/2019| 2/5/2019|\n",
            "|     5.19E-5|Bibile, Monaragala|    2/5/2019| 2/6/2019|\n",
            "|     1.05E-5|Bibile, Monaragala|    2/6/2019| 2/7/2019|\n",
            "|     4.08E-5|Bibile, Monaragala|    2/7/2019| 2/8/2019|\n",
            "|     7.59E-5|Bibile, Monaragala|    2/8/2019| 2/9/2019|\n",
            "|     7.59E-5|Bibile, Monaragala|    2/9/2019|2/10/2019|\n",
            "|     7.35E-5|Bibile, Monaragala|   2/10/2019|2/11/2019|\n",
            "|     1.06E-5|Bibile, Monaragala|   2/11/2019|2/12/2019|\n",
            "|     6.92E-5|Bibile, Monaragala|   2/12/2019|2/13/2019|\n",
            "|     6.92E-5|Bibile, Monaragala|   2/13/2019|2/14/2019|\n",
            "|     6.92E-5|Bibile, Monaragala|   2/14/2019|2/15/2019|\n",
            "|  1.62348E-4|Bibile, Monaragala|   2/15/2019|2/16/2019|\n",
            "|     2.66E-5|Bibile, Monaragala|   2/16/2019|2/17/2019|\n",
            "|  1.36241E-4|Bibile, Monaragala|   2/17/2019|2/18/2019|\n",
            "|      5.9E-5|Bibile, Monaragala|   2/18/2019|2/19/2019|\n",
            "|     7.99E-5|Bibile, Monaragala|   2/19/2019|2/20/2019|\n",
            "|     8.65E-5|Bibile, Monaragala|   2/20/2019|2/21/2019|\n",
            "|     6.58E-5|Bibile, Monaragala|   2/21/2019|2/22/2019|\n",
            "|  1.17332E-4|Bibile, Monaragala|   2/22/2019|2/23/2019|\n",
            "|  1.37266E-4|Bibile, Monaragala|   2/23/2019|2/24/2019|\n",
            "|  1.18359E-4|Bibile, Monaragala|   2/24/2019|2/25/2019|\n",
            "|  1.18359E-4|Bibile, Monaragala|   2/25/2019|2/26/2019|\n",
            "|    -4.67E-5|Bibile, Monaragala|   2/26/2019|2/27/2019|\n",
            "|    -4.67E-5|Bibile, Monaragala|   2/27/2019|2/28/2019|\n",
            "|    -4.67E-5|Bibile, Monaragala|   2/28/2019| 3/1/2019|\n",
            "|    -4.67E-5|Bibile, Monaragala|    3/1/2019| 3/2/2019|\n",
            "|  2.01522E-4|Bibile, Monaragala|    3/2/2019| 3/3/2019|\n",
            "|  2.33338E-4|Bibile, Monaragala|    3/3/2019| 3/4/2019|\n",
            "|  1.13056E-4|Bibile, Monaragala|    3/4/2019| 3/5/2019|\n",
            "|     8.92E-5|Bibile, Monaragala|    3/5/2019| 3/6/2019|\n",
            "|     4.27E-5|Bibile, Monaragala|    3/6/2019| 3/7/2019|\n",
            "|  1.02154E-4|Bibile, Monaragala|    3/7/2019| 3/8/2019|\n",
            "|  1.04416E-4|Bibile, Monaragala|    3/8/2019| 3/9/2019|\n",
            "|  1.04416E-4|Bibile, Monaragala|    3/9/2019|3/10/2019|\n",
            "|  1.05763E-4|Bibile, Monaragala|   3/10/2019|3/11/2019|\n",
            "|  1.95469E-4|Bibile, Monaragala|   3/11/2019|3/12/2019|\n",
            "|  2.33956E-4|Bibile, Monaragala|   3/12/2019|3/13/2019|\n",
            "|  2.33956E-4|Bibile, Monaragala|   3/13/2019|3/14/2019|\n",
            "|     5.33E-5|Bibile, Monaragala|   3/14/2019|3/15/2019|\n",
            "|  1.23402E-4|Bibile, Monaragala|   3/15/2019|3/16/2019|\n",
            "|     9.93E-5|Bibile, Monaragala|   3/16/2019|3/17/2019|\n",
            "|     9.93E-5|Bibile, Monaragala|   3/17/2019|3/18/2019|\n",
            "|     1.32E-5|Bibile, Monaragala|   3/18/2019|3/19/2019|\n",
            "|  1.44978E-4|Bibile, Monaragala|   3/19/2019|3/20/2019|\n",
            "|     7.63E-5|Bibile, Monaragala|   3/20/2019|3/21/2019|\n",
            "|  1.48068E-4|Bibile, Monaragala|   3/21/2019|3/22/2019|\n",
            "|      4.7E-5|Bibile, Monaragala|   3/22/2019|3/23/2019|\n",
            "|    -1.55E-5|Bibile, Monaragala|   3/23/2019|3/24/2019|\n",
            "|   1.5121E-4|Bibile, Monaragala|   3/24/2019|3/25/2019|\n",
            "|     7.34E-5|Bibile, Monaragala|   3/25/2019|3/26/2019|\n",
            "|     8.13E-5|Bibile, Monaragala|   3/26/2019|3/27/2019|\n",
            "|     9.85E-5|Bibile, Monaragala|   3/27/2019|3/28/2019|\n",
            "|   1.3195E-4|Bibile, Monaragala|   3/28/2019|3/29/2019|\n",
            "|   1.3195E-4|Bibile, Monaragala|   3/29/2019|3/30/2019|\n",
            "|  2.86011E-4|Bibile, Monaragala|   3/30/2019|3/31/2019|\n",
            "|  1.69146E-4|Bibile, Monaragala|   3/31/2019| 4/1/2019|\n",
            "|  2.31136E-4|Bibile, Monaragala|    4/1/2019| 4/2/2019|\n",
            "|  1.83951E-4|Bibile, Monaragala|    4/2/2019| 4/3/2019|\n",
            "|  2.12084E-4|Bibile, Monaragala|    4/3/2019| 4/4/2019|\n",
            "|     2.66E-5|Bibile, Monaragala|    4/4/2019| 4/5/2019|\n",
            "|     8.13E-5|Bibile, Monaragala|    4/5/2019| 4/6/2019|\n",
            "|  1.32341E-4|Bibile, Monaragala|    4/6/2019| 4/7/2019|\n",
            "|  1.58433E-4|Bibile, Monaragala|    4/7/2019| 4/8/2019|\n",
            "|  2.05537E-4|Bibile, Monaragala|    4/8/2019| 4/9/2019|\n",
            "|  2.65918E-4|Bibile, Monaragala|    4/9/2019|4/10/2019|\n",
            "|  1.20946E-4|Bibile, Monaragala|   4/10/2019|4/11/2019|\n",
            "+------------+------------------+------------+---------+\n",
            "only showing top 100 rows\n",
            "\n"
          ]
        }
      ]
    },
    {
      "cell_type": "code",
      "source": [
        "filled_df3.write.csv(\"/content/newoutmon.csv\", header=True)\n"
      ],
      "metadata": {
        "id": "wFsagOniNBiu"
      },
      "execution_count": null,
      "outputs": []
    },
    {
      "cell_type": "code",
      "source": [
        "filled_df3.filter(filled_df3[\"HCHO reading\"].isNull()).count()"
      ],
      "metadata": {
        "colab": {
          "base_uri": "https://localhost:8080/"
        },
        "id": "odFqXg7QQHwS",
        "outputId": "213e8c96-7ee6-473b-9416-bc428376c149"
      },
      "execution_count": null,
      "outputs": [
        {
          "output_type": "execute_result",
          "data": {
            "text/plain": [
              "1"
            ]
          },
          "metadata": {},
          "execution_count": 17
        }
      ]
    }
  ]
}