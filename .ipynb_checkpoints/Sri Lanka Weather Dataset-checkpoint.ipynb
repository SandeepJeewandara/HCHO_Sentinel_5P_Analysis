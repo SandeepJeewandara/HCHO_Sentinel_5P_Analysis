{
 "cells": [
  {
   "cell_type": "markdown",
   "id": "9cd7b3a3-c5d5-4a8f-b242-1b5d0f926477",
   "metadata": {},
   "source": [
    "## Data Preprocessing"
   ]
  },
  {
   "cell_type": "code",
   "execution_count": 1,
   "id": "549ae793-006d-4e04-92fb-a9eb9bb59af1",
   "metadata": {},
   "outputs": [],
   "source": [
    "# Import Libraries\n",
    "from pyspark.sql import SparkSession\n",
    "from pyspark.sql.types import FloatType\n",
    "from pyspark.sql.functions import col, to_date,mean, when"
   ]
  },
  {
   "cell_type": "code",
   "execution_count": 2,
   "id": "88946260-7361-4048-8dbe-8c733dcbf8e2",
   "metadata": {},
   "outputs": [],
   "source": [
    "# Initialize SparkSession\n",
    "spark = SparkSession.builder.appName(\"Weather_Data\").getOrCreate()"
   ]
  },
  {
   "cell_type": "code",
   "execution_count": 3,
   "id": "949798cf-361d-49ad-9d79-3fac2739bba6",
   "metadata": {},
   "outputs": [],
   "source": [
    "# Load weather data \n",
    "weather_data = spark.read.csv(\"data/weather.csv\", header=True)"
   ]
  },
  {
   "cell_type": "code",
   "execution_count": 4,
   "id": "8f6b1ed7-96f6-4449-a649-2e3d9d994a96",
   "metadata": {},
   "outputs": [
    {
     "name": "stdout",
     "output_type": "stream",
     "text": [
      "+-----------+--------------+----------+----+----+----+----+\n",
      "|    STATION|          NAME|      DATE|PRCP|TAVG|TMAX|TMIN|\n",
      "+-----------+--------------+----------+----+----+----+----+\n",
      "|CEM00043441|KURUNEGALA, CE|2019-01-02|0.00|  78|NULL|  72|\n",
      "|CEM00043441|KURUNEGALA, CE|2019-01-03|0.00|  81|  87|  71|\n",
      "|CEM00043441|KURUNEGALA, CE|2019-01-04|0.00|  83|  88|  69|\n",
      "|CEM00043441|KURUNEGALA, CE|2019-01-05|0.00|  84|  90|  65|\n",
      "|CEM00043441|KURUNEGALA, CE|2019-01-06|0.00|  82|  88|  71|\n",
      "|CEM00043441|KURUNEGALA, CE|2019-01-07|0.00|  80|  89|  68|\n",
      "|CEM00043441|KURUNEGALA, CE|2019-01-08|0.00|  82|  90|  71|\n",
      "|CEM00043441|KURUNEGALA, CE|2019-01-09|0.00|  83|  89|  71|\n",
      "|CEM00043441|KURUNEGALA, CE|2019-01-10|0.00|  81|  88|  72|\n",
      "|CEM00043441|KURUNEGALA, CE|2019-01-11|0.00|  85|  90|  73|\n",
      "|CEM00043441|KURUNEGALA, CE|2019-01-12|0.00|  84|  90|  74|\n",
      "|CEM00043441|KURUNEGALA, CE|2019-01-13|0.00|  82|  87|  72|\n",
      "|CEM00043441|KURUNEGALA, CE|2019-01-14|0.00|  80|  86|  74|\n",
      "|CEM00043441|KURUNEGALA, CE|2019-01-15|0.00|  81|NULL|  72|\n",
      "|CEM00043441|KURUNEGALA, CE|2019-01-16|0.00|  82|  89|  74|\n",
      "|CEM00043441|KURUNEGALA, CE|2019-01-17|0.00|  80|NULL|  72|\n",
      "|CEM00043441|KURUNEGALA, CE|2019-01-19|0.00|  82|  89|  66|\n",
      "|CEM00043441|KURUNEGALA, CE|2019-01-20|0.00|  80|NULL|  69|\n",
      "|CEM00043441|KURUNEGALA, CE|2019-01-21|0.00|  82|  90|  69|\n",
      "|CEM00043441|KURUNEGALA, CE|2019-01-22|0.00|  82|  92|  69|\n",
      "+-----------+--------------+----------+----+----+----+----+\n",
      "only showing top 20 rows\n",
      "\n"
     ]
    }
   ],
   "source": [
    "weather_data.show()"
   ]
  },
  {
   "cell_type": "code",
   "execution_count": 5,
   "id": "0cc84022-c049-452c-a2f0-c4aedac946ff",
   "metadata": {},
   "outputs": [
    {
     "data": {
      "text/plain": [
       "5230"
      ]
     },
     "execution_count": 5,
     "metadata": {},
     "output_type": "execute_result"
    }
   ],
   "source": [
    "weather_data.count()"
   ]
  },
  {
   "cell_type": "markdown",
   "id": "4df2b84b-fd35-406f-97f9-7cd0de81a9e8",
   "metadata": {},
   "source": [
    "#### Handle Missing Values"
   ]
  },
  {
   "cell_type": "code",
   "execution_count": 6,
   "id": "ac69abd4-eb90-4e3a-837a-0f706af30e72",
   "metadata": {},
   "outputs": [
    {
     "name": "stdout",
     "output_type": "stream",
     "text": [
      "Missing values in column 'STATION': 0\n",
      "Missing values in column 'NAME': 0\n",
      "Missing values in column 'DATE': 0\n",
      "Missing values in column 'PRCP': 17\n",
      "Missing values in column 'TAVG': 0\n",
      "Missing values in column 'TMAX': 583\n",
      "Missing values in column 'TMIN': 926\n"
     ]
    }
   ],
   "source": [
    "# Explore missing values in each column\n",
    "for column in weather_data.columns:\n",
    "    missing_count =  weather_data.filter(col(column).isNull()).count()\n",
    "    print(f\"Missing values in column '{column}': {missing_count}\")"
   ]
  },
  {
   "cell_type": "code",
   "execution_count": 7,
   "id": "f99519f0-4aa8-4e3a-b1a0-96f6899b9995",
   "metadata": {},
   "outputs": [],
   "source": [
    "# Calculate mean values\n",
    "prcp_mean = weather_data.agg(mean('PRCP')).collect()[0][0]\n",
    "tmax_mean = weather_data.agg(mean('TMAX')).collect()[0][0]\n",
    "tmin_mean = weather_data.agg(mean('TMIN')).collect()[0][0]\n",
    "\n",
    "# Impute missing values with mean\n",
    "weather_data= weather_data.fillna({'PRCP': prcp_mean, 'TMAX': tmax_mean, 'TMIN': tmin_mean})"
   ]
  },
  {
   "cell_type": "code",
   "execution_count": 8,
   "id": "2bc8eaa0-c312-49d2-b96d-24456e005401",
   "metadata": {},
   "outputs": [
    {
     "name": "stdout",
     "output_type": "stream",
     "text": [
      "Missing values in column 'STATION': 0\n",
      "Missing values in column 'NAME': 0\n",
      "Missing values in column 'DATE': 0\n",
      "Missing values in column 'PRCP': 0\n",
      "Missing values in column 'TAVG': 0\n",
      "Missing values in column 'TMAX': 0\n",
      "Missing values in column 'TMIN': 0\n"
     ]
    }
   ],
   "source": [
    "# Explore missing values in each column\n",
    "for column in weather_data.columns:\n",
    "    missing_count =  weather_data.filter(col(column).isNull()).count()\n",
    "    print(f\"Missing values in column '{column}': {missing_count}\")"
   ]
  },
  {
   "cell_type": "code",
   "execution_count": 9,
   "id": "7f868da3-e9ae-4ce9-a3bd-9015c2a5342c",
   "metadata": {},
   "outputs": [
    {
     "name": "stdout",
     "output_type": "stream",
     "text": [
      "root\n",
      " |-- STATION: string (nullable = true)\n",
      " |-- NAME: string (nullable = true)\n",
      " |-- DATE: string (nullable = true)\n",
      " |-- PRCP: string (nullable = false)\n",
      " |-- TAVG: string (nullable = true)\n",
      " |-- TMAX: string (nullable = false)\n",
      " |-- TMIN: string (nullable = false)\n",
      "\n"
     ]
    }
   ],
   "source": [
    "weather_data.printSchema()"
   ]
  },
  {
   "cell_type": "markdown",
   "id": "78e4bc20-1c18-4b68-920e-0edcbd0b709c",
   "metadata": {},
   "source": [
    "#### Convert Data Types"
   ]
  },
  {
   "cell_type": "code",
   "execution_count": 10,
   "id": "ffc83f84-cb42-4482-beb7-2e778e4694ef",
   "metadata": {},
   "outputs": [],
   "source": [
    "# Convert DATE column to DateType\n",
    "weather_data = weather_data.withColumn(\"DATE\", to_date(col(\"DATE\"), 'yyyy-MM-dd'))\n",
    "\n",
    "# Convert PRCP, TAVG, TMAX, and TMIN columns to FloatType\n",
    "weather_data = weather_data.withColumn(\"PRCP\", col(\"PRCP\").cast(FloatType()))\n",
    "weather_data = weather_data.withColumn(\"TAVG\", col(\"TAVG\").cast(FloatType()))\n",
    "weather_data = weather_data.withColumn(\"TMAX\", col(\"TMAX\").cast(FloatType()))\n",
    "weather_data = weather_data.withColumn(\"TMIN\", col(\"TMIN\").cast(FloatType()))"
   ]
  },
  {
   "cell_type": "code",
   "execution_count": 11,
   "id": "93d919e4-05f1-49a2-bdb6-ee809aa9c1b8",
   "metadata": {},
   "outputs": [
    {
     "name": "stdout",
     "output_type": "stream",
     "text": [
      "root\n",
      " |-- STATION: string (nullable = true)\n",
      " |-- NAME: string (nullable = true)\n",
      " |-- DATE: date (nullable = true)\n",
      " |-- PRCP: float (nullable = true)\n",
      " |-- TAVG: float (nullable = true)\n",
      " |-- TMAX: float (nullable = true)\n",
      " |-- TMIN: float (nullable = true)\n",
      "\n"
     ]
    }
   ],
   "source": [
    "weather_data.printSchema()"
   ]
  },
  {
   "cell_type": "markdown",
   "id": "1c44774d-03bc-49c8-bc9e-0c1c83a4b244",
   "metadata": {},
   "source": [
    "#### Drop Unwanted Coloumns"
   ]
  },
  {
   "cell_type": "code",
   "execution_count": 12,
   "id": "401f0c55-50a4-4d13-bbba-0f0729e90d01",
   "metadata": {},
   "outputs": [],
   "source": [
    "# Drop the Next_Date column\n",
    "weather_data = weather_data.drop(\"STATION\")"
   ]
  },
  {
   "cell_type": "code",
   "execution_count": 13,
   "id": "f77e675b-84df-46b7-8c50-54e7a6ea7065",
   "metadata": {},
   "outputs": [
    {
     "name": "stdout",
     "output_type": "stream",
     "text": [
      "+--------------+----------+----+----+--------+----+\n",
      "|          NAME|      DATE|PRCP|TAVG|    TMAX|TMIN|\n",
      "+--------------+----------+----+----+--------+----+\n",
      "|KURUNEGALA, CE|2019-01-02| 0.0|78.0|82.25931|72.0|\n",
      "|KURUNEGALA, CE|2019-01-03| 0.0|81.0|    87.0|71.0|\n",
      "|KURUNEGALA, CE|2019-01-04| 0.0|83.0|    88.0|69.0|\n",
      "|KURUNEGALA, CE|2019-01-05| 0.0|84.0|    90.0|65.0|\n",
      "|KURUNEGALA, CE|2019-01-06| 0.0|82.0|    88.0|71.0|\n",
      "|KURUNEGALA, CE|2019-01-07| 0.0|80.0|    89.0|68.0|\n",
      "|KURUNEGALA, CE|2019-01-08| 0.0|82.0|    90.0|71.0|\n",
      "|KURUNEGALA, CE|2019-01-09| 0.0|83.0|    89.0|71.0|\n",
      "|KURUNEGALA, CE|2019-01-10| 0.0|81.0|    88.0|72.0|\n",
      "|KURUNEGALA, CE|2019-01-11| 0.0|85.0|    90.0|73.0|\n",
      "|KURUNEGALA, CE|2019-01-12| 0.0|84.0|    90.0|74.0|\n",
      "|KURUNEGALA, CE|2019-01-13| 0.0|82.0|    87.0|72.0|\n",
      "|KURUNEGALA, CE|2019-01-14| 0.0|80.0|    86.0|74.0|\n",
      "|KURUNEGALA, CE|2019-01-15| 0.0|81.0|82.25931|72.0|\n",
      "|KURUNEGALA, CE|2019-01-16| 0.0|82.0|    89.0|74.0|\n",
      "|KURUNEGALA, CE|2019-01-17| 0.0|80.0|82.25931|72.0|\n",
      "|KURUNEGALA, CE|2019-01-19| 0.0|82.0|    89.0|66.0|\n",
      "|KURUNEGALA, CE|2019-01-20| 0.0|80.0|82.25931|69.0|\n",
      "|KURUNEGALA, CE|2019-01-21| 0.0|82.0|    90.0|69.0|\n",
      "|KURUNEGALA, CE|2019-01-22| 0.0|82.0|    92.0|69.0|\n",
      "+--------------+----------+----+----+--------+----+\n",
      "only showing top 20 rows\n",
      "\n"
     ]
    }
   ],
   "source": [
    "weather_data.show()"
   ]
  },
  {
   "cell_type": "markdown",
   "id": "5057499b-2260-4aef-ae80-52b58cd04fdf",
   "metadata": {},
   "source": [
    "#### Replace Station Names "
   ]
  },
  {
   "cell_type": "code",
   "execution_count": 14,
   "id": "40dd823f-e07c-4700-902f-588aa0b57abe",
   "metadata": {},
   "outputs": [],
   "source": [
    "# Replace values in the NAME column\n",
    "\n",
    "weather_data = weather_data.na.replace(['COLOMBO, CE'], ['Colombo Proper'], 'NAME')\n",
    "weather_data = weather_data.na.replace(['KURUNEGALA, CE'], ['Kurunegala Proper'], 'NAME')\n",
    "weather_data = weather_data.na.replace(['NUWARA ELIYA, CE'], ['Nuwara Eliya Proper'], 'NAME')"
   ]
  },
  {
   "cell_type": "code",
   "execution_count": 15,
   "id": "88506544-c4de-481c-924a-9cc314e4b514",
   "metadata": {},
   "outputs": [
    {
     "name": "stdout",
     "output_type": "stream",
     "text": [
      "+-----------------+----------+----+----+--------+----+\n",
      "|             NAME|      DATE|PRCP|TAVG|    TMAX|TMIN|\n",
      "+-----------------+----------+----+----+--------+----+\n",
      "|Kurunegala Proper|2019-01-02| 0.0|78.0|82.25931|72.0|\n",
      "|Kurunegala Proper|2019-01-03| 0.0|81.0|    87.0|71.0|\n",
      "|Kurunegala Proper|2019-01-04| 0.0|83.0|    88.0|69.0|\n",
      "|Kurunegala Proper|2019-01-05| 0.0|84.0|    90.0|65.0|\n",
      "|Kurunegala Proper|2019-01-06| 0.0|82.0|    88.0|71.0|\n",
      "|Kurunegala Proper|2019-01-07| 0.0|80.0|    89.0|68.0|\n",
      "|Kurunegala Proper|2019-01-08| 0.0|82.0|    90.0|71.0|\n",
      "|Kurunegala Proper|2019-01-09| 0.0|83.0|    89.0|71.0|\n",
      "|Kurunegala Proper|2019-01-10| 0.0|81.0|    88.0|72.0|\n",
      "|Kurunegala Proper|2019-01-11| 0.0|85.0|    90.0|73.0|\n",
      "|Kurunegala Proper|2019-01-12| 0.0|84.0|    90.0|74.0|\n",
      "|Kurunegala Proper|2019-01-13| 0.0|82.0|    87.0|72.0|\n",
      "|Kurunegala Proper|2019-01-14| 0.0|80.0|    86.0|74.0|\n",
      "|Kurunegala Proper|2019-01-15| 0.0|81.0|82.25931|72.0|\n",
      "|Kurunegala Proper|2019-01-16| 0.0|82.0|    89.0|74.0|\n",
      "|Kurunegala Proper|2019-01-17| 0.0|80.0|82.25931|72.0|\n",
      "|Kurunegala Proper|2019-01-19| 0.0|82.0|    89.0|66.0|\n",
      "|Kurunegala Proper|2019-01-20| 0.0|80.0|82.25931|69.0|\n",
      "|Kurunegala Proper|2019-01-21| 0.0|82.0|    90.0|69.0|\n",
      "|Kurunegala Proper|2019-01-22| 0.0|82.0|    92.0|69.0|\n",
      "+-----------------+----------+----+----+--------+----+\n",
      "only showing top 20 rows\n",
      "\n"
     ]
    }
   ],
   "source": [
    "weather_data.show()"
   ]
  },
  {
   "cell_type": "code",
   "execution_count": 16,
   "id": "eb146a8d-183d-4f3a-91d5-54bac940d934",
   "metadata": {},
   "outputs": [
    {
     "name": "stdout",
     "output_type": "stream",
     "text": [
      "+-------------------+-----+\n",
      "|               Name|count|\n",
      "+-------------------+-----+\n",
      "|  Kurunegala Proper| 1704|\n",
      "|     Colombo Proper| 1765|\n",
      "|Nuwara Eliya Proper| 1761|\n",
      "+-------------------+-----+\n",
      "\n"
     ]
    }
   ],
   "source": [
    "location_counts=weather_data.groupBy(\"Name\").count()\n",
    "location_counts.show()"
   ]
  },
  {
   "cell_type": "code",
   "execution_count": 17,
   "id": "952b08e3-390a-428b-b1b3-280ff812e29a",
   "metadata": {},
   "outputs": [],
   "source": [
    "# Save the DataFrame as a CSV file\n",
    "weather_data.toPandas().to_csv('data/weather_new.csv')"
   ]
  }
 ],
 "metadata": {
  "kernelspec": {
   "display_name": "Python 3 (ipykernel)",
   "language": "python",
   "name": "python3"
  },
  "language_info": {
   "codemirror_mode": {
    "name": "ipython",
    "version": 3
   },
   "file_extension": ".py",
   "mimetype": "text/x-python",
   "name": "python",
   "nbconvert_exporter": "python",
   "pygments_lexer": "ipython3",
   "version": "3.10.7"
  }
 },
 "nbformat": 4,
 "nbformat_minor": 5
}
