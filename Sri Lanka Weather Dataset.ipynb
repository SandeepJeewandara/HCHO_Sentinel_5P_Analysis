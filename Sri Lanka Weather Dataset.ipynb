{
 "cells": [
  {
   "cell_type": "markdown",
   "id": "9cd7b3a3-c5d5-4a8f-b242-1b5d0f926477",
   "metadata": {},
   "source": [
    "## Data Preprocessing"
   ]
  },
  {
   "cell_type": "code",
   "execution_count": 1,
   "id": "549ae793-006d-4e04-92fb-a9eb9bb59af1",
   "metadata": {},
   "outputs": [],
   "source": [
    "# Import Libraries\n",
    "from pyspark.sql import SparkSession\n",
    "from pyspark.sql.types import FloatType\n",
    "from pyspark.sql.functions import col, to_date,mean, when"
   ]
  },
  {
   "cell_type": "code",
   "execution_count": 2,
   "id": "88946260-7361-4048-8dbe-8c733dcbf8e2",
   "metadata": {},
   "outputs": [],
   "source": [
    "# Initialize SparkSession\n",
    "spark = SparkSession.builder.appName(\"Weather_Data\").getOrCreate()"
   ]
  },
  {
   "cell_type": "code",
   "execution_count": 3,
   "id": "949798cf-361d-49ad-9d79-3fac2739bba6",
   "metadata": {},
   "outputs": [],
   "source": [
    "# Load weather data \n",
    "weather_data = spark.read.csv(\"data/SriLanka_Weather_Dataset.csv\", header=True)"
   ]
  },
  {
   "cell_type": "code",
   "execution_count": 4,
   "id": "0cc84022-c049-452c-a2f0-c4aedac946ff",
   "metadata": {},
   "outputs": [
    {
     "data": {
      "text/plain": [
       "147480"
      ]
     },
     "execution_count": 4,
     "metadata": {},
     "output_type": "execute_result"
    }
   ],
   "source": [
    "weather_data.count()"
   ]
  },
  {
   "cell_type": "markdown",
   "id": "4df2b84b-fd35-406f-97f9-7cd0de81a9e8",
   "metadata": {},
   "source": [
    "#### Handle Missing Values"
   ]
  },
  {
   "cell_type": "code",
   "execution_count": 5,
   "id": "ac69abd4-eb90-4e3a-837a-0f706af30e72",
   "metadata": {},
   "outputs": [
    {
     "name": "stdout",
     "output_type": "stream",
     "text": [
      "Missing values in column 'time': 0\n",
      "Missing values in column 'weathercode': 0\n",
      "Missing values in column 'temperature_2m_max': 0\n",
      "Missing values in column 'temperature_2m_min': 0\n",
      "Missing values in column 'temperature_2m_mean': 0\n",
      "Missing values in column 'apparent_temperature_max': 0\n",
      "Missing values in column 'apparent_temperature_min': 0\n",
      "Missing values in column 'apparent_temperature_mean': 0\n",
      "Missing values in column 'sunrise': 0\n",
      "Missing values in column 'sunset': 0\n",
      "Missing values in column 'shortwave_radiation_sum': 0\n",
      "Missing values in column 'precipitation_sum': 0\n",
      "Missing values in column 'rain_sum': 0\n",
      "Missing values in column 'snowfall_sum': 0\n",
      "Missing values in column 'precipitation_hours': 0\n",
      "Missing values in column 'windspeed_10m_max': 0\n",
      "Missing values in column 'windgusts_10m_max': 0\n",
      "Missing values in column 'winddirection_10m_dominant': 0\n",
      "Missing values in column 'et0_fao_evapotranspiration': 0\n",
      "Missing values in column 'latitude': 0\n",
      "Missing values in column 'longitude': 0\n",
      "Missing values in column 'elevation': 0\n",
      "Missing values in column 'country': 0\n",
      "Missing values in column 'city': 0\n"
     ]
    }
   ],
   "source": [
    "# Explore missing values in each column\n",
    "for column in weather_data.columns:\n",
    "    missing_count =  weather_data.filter(col(column).isNull()).count()\n",
    "    print(f\"Missing values in column '{column}': {missing_count}\")"
   ]
  },
  {
   "cell_type": "code",
   "execution_count": 6,
   "id": "370caffa-f395-40ad-89b2-2ad113045418",
   "metadata": {},
   "outputs": [
    {
     "name": "stdout",
     "output_type": "stream",
     "text": [
      "root\n",
      " |-- time: string (nullable = true)\n",
      " |-- weathercode: string (nullable = true)\n",
      " |-- temperature_2m_max: string (nullable = true)\n",
      " |-- temperature_2m_min: string (nullable = true)\n",
      " |-- temperature_2m_mean: string (nullable = true)\n",
      " |-- apparent_temperature_max: string (nullable = true)\n",
      " |-- apparent_temperature_min: string (nullable = true)\n",
      " |-- apparent_temperature_mean: string (nullable = true)\n",
      " |-- sunrise: string (nullable = true)\n",
      " |-- sunset: string (nullable = true)\n",
      " |-- shortwave_radiation_sum: string (nullable = true)\n",
      " |-- precipitation_sum: string (nullable = true)\n",
      " |-- rain_sum: string (nullable = true)\n",
      " |-- snowfall_sum: string (nullable = true)\n",
      " |-- precipitation_hours: string (nullable = true)\n",
      " |-- windspeed_10m_max: string (nullable = true)\n",
      " |-- windgusts_10m_max: string (nullable = true)\n",
      " |-- winddirection_10m_dominant: string (nullable = true)\n",
      " |-- et0_fao_evapotranspiration: string (nullable = true)\n",
      " |-- latitude: string (nullable = true)\n",
      " |-- longitude: string (nullable = true)\n",
      " |-- elevation: string (nullable = true)\n",
      " |-- country: string (nullable = true)\n",
      " |-- city: string (nullable = true)\n",
      "\n"
     ]
    }
   ],
   "source": [
    "weather_data.printSchema()"
   ]
  },
  {
   "cell_type": "markdown",
   "id": "1c44774d-03bc-49c8-bc9e-0c1c83a4b244",
   "metadata": {},
   "source": [
    "#### Drop Unwanted Coloumns"
   ]
  },
  {
   "cell_type": "code",
   "execution_count": 7,
   "id": "401f0c55-50a4-4d13-bbba-0f0729e90d01",
   "metadata": {},
   "outputs": [],
   "source": [
    "weather_data = weather_data.drop(\"weathercode\").drop(\"sunrise\").drop(\"sunset\").drop(\"snowfall_sum\").drop(\"precipitation_hours\")\n",
    "weather_data = weather_data.drop(\"winddirection_10m_dominant\").drop(\"latitude\").drop(\"longitude\").drop(\"elevation\").drop(\"country\")"
   ]
  },
  {
   "cell_type": "code",
   "execution_count": 8,
   "id": "035f5964-8818-4fef-b8d2-f9aac844bc30",
   "metadata": {},
   "outputs": [
    {
     "name": "stdout",
     "output_type": "stream",
     "text": [
      "root\n",
      " |-- time: string (nullable = true)\n",
      " |-- temperature_2m_max: string (nullable = true)\n",
      " |-- temperature_2m_min: string (nullable = true)\n",
      " |-- temperature_2m_mean: string (nullable = true)\n",
      " |-- apparent_temperature_max: string (nullable = true)\n",
      " |-- apparent_temperature_min: string (nullable = true)\n",
      " |-- apparent_temperature_mean: string (nullable = true)\n",
      " |-- shortwave_radiation_sum: string (nullable = true)\n",
      " |-- precipitation_sum: string (nullable = true)\n",
      " |-- rain_sum: string (nullable = true)\n",
      " |-- windspeed_10m_max: string (nullable = true)\n",
      " |-- windgusts_10m_max: string (nullable = true)\n",
      " |-- et0_fao_evapotranspiration: string (nullable = true)\n",
      " |-- city: string (nullable = true)\n",
      "\n"
     ]
    }
   ],
   "source": [
    "weather_data.printSchema()"
   ]
  },
  {
   "cell_type": "markdown",
   "id": "78e4bc20-1c18-4b68-920e-0edcbd0b709c",
   "metadata": {},
   "source": [
    "#### Convert Data Types"
   ]
  },
  {
   "cell_type": "code",
   "execution_count": 9,
   "id": "c735c5da-84ae-4d64-9795-8c6049d793f3",
   "metadata": {},
   "outputs": [
    {
     "name": "stdout",
     "output_type": "stream",
     "text": [
      "root\n",
      " |-- time: date (nullable = true)\n",
      " |-- temperature_2m_max: float (nullable = true)\n",
      " |-- temperature_2m_min: float (nullable = true)\n",
      " |-- temperature_2m_mean: float (nullable = true)\n",
      " |-- apparent_temperature_max: float (nullable = true)\n",
      " |-- apparent_temperature_min: float (nullable = true)\n",
      " |-- apparent_temperature_mean: float (nullable = true)\n",
      " |-- shortwave_radiation_sum: float (nullable = true)\n",
      " |-- precipitation_sum: float (nullable = true)\n",
      " |-- rain_sum: float (nullable = true)\n",
      " |-- windspeed_10m_max: float (nullable = true)\n",
      " |-- windgusts_10m_max: float (nullable = true)\n",
      " |-- et0_fao_evapotranspiration: float (nullable = true)\n",
      " |-- city: string (nullable = true)\n",
      "\n"
     ]
    }
   ],
   "source": [
    "# List of columns to convert to numeric\n",
    "numeric_columns = [\n",
    "    \"temperature_2m_max\", \"temperature_2m_min\", \"temperature_2m_mean\",\n",
    "    \"apparent_temperature_max\", \"apparent_temperature_min\", \"apparent_temperature_mean\",\n",
    "    \"shortwave_radiation_sum\", \"precipitation_sum\", \"rain_sum\",\n",
    "    \"windspeed_10m_max\", \"windgusts_10m_max\", \"et0_fao_evapotranspiration\"\n",
    "]\n",
    "\n",
    "# Convert columns to numeric\n",
    "for column in numeric_columns:\n",
    "    weather_data = weather_data.withColumn(column, weather_data[column].cast(\"float\"))\n",
    "\n",
    "# Convert time column to DateType\n",
    "weather_data = weather_data.withColumn(\"time\", to_date(col(\"time\"), 'yyyy-MM-dd'))\n",
    "\n",
    "# Check the schema after conversion\n",
    "weather_data.printSchema()"
   ]
  },
  {
   "cell_type": "code",
   "execution_count": 10,
   "id": "93d919e4-05f1-49a2-bdb6-ee809aa9c1b8",
   "metadata": {},
   "outputs": [
    {
     "name": "stdout",
     "output_type": "stream",
     "text": [
      "root\n",
      " |-- time: date (nullable = true)\n",
      " |-- temperature_2m_max: float (nullable = true)\n",
      " |-- temperature_2m_min: float (nullable = true)\n",
      " |-- temperature_2m_mean: float (nullable = true)\n",
      " |-- apparent_temperature_max: float (nullable = true)\n",
      " |-- apparent_temperature_min: float (nullable = true)\n",
      " |-- apparent_temperature_mean: float (nullable = true)\n",
      " |-- shortwave_radiation_sum: float (nullable = true)\n",
      " |-- precipitation_sum: float (nullable = true)\n",
      " |-- rain_sum: float (nullable = true)\n",
      " |-- windspeed_10m_max: float (nullable = true)\n",
      " |-- windgusts_10m_max: float (nullable = true)\n",
      " |-- et0_fao_evapotranspiration: float (nullable = true)\n",
      " |-- city: string (nullable = true)\n",
      "\n"
     ]
    }
   ],
   "source": [
    "weather_data.printSchema()"
   ]
  },
  {
   "cell_type": "markdown",
   "id": "882c2a0d-0a91-47a5-906c-ee08151503a5",
   "metadata": {},
   "source": [
    " #### Filter Values"
   ]
  },
  {
   "cell_type": "code",
   "execution_count": 11,
   "id": "30f89c58-368e-44fb-a726-54a73dd992f4",
   "metadata": {},
   "outputs": [
    {
     "data": {
      "text/plain": [
       "9774"
      ]
     },
     "execution_count": 11,
     "metadata": {},
     "output_type": "execute_result"
    }
   ],
   "source": [
    "from pyspark.sql.functions import col\n",
    "\n",
    "# Define the list of cities\n",
    "cities = ['Colombo', 'Badulla', 'Kandy', 'Jaffna', 'Matara', 'Kurunegala']\n",
    "\n",
    "# Filter the data for the specified date range and cities\n",
    "filtered_weather_data = weather_data.filter(\n",
    "    (col(\"time\") >= \"2019-01-01\") & \n",
    "    (col(\"time\") <= \"2023-12-31\") & \n",
    "    (col(\"city\").isin(cities))\n",
    ")\n",
    "\n",
    "# Show the filtered data\n",
    "filtered_weather_data.count()"
   ]
  },
  {
   "cell_type": "code",
   "execution_count": 12,
   "id": "13e26b53-e8de-45dc-a1b1-1c342a4a6a26",
   "metadata": {},
   "outputs": [
    {
     "name": "stdout",
     "output_type": "stream",
     "text": [
      "+----------+\n",
      "|      city|\n",
      "+----------+\n",
      "|   Colombo|\n",
      "|     Kandy|\n",
      "|    Matara|\n",
      "|    Jaffna|\n",
      "|   Badulla|\n",
      "|Kurunegala|\n",
      "+----------+\n",
      "\n"
     ]
    }
   ],
   "source": [
    "# Select the \"city\" column and get unique values\n",
    "unique_cities = filtered_weather_data.select(\"city\").distinct()\n",
    "\n",
    "unique_cities.show()"
   ]
  },
  {
   "cell_type": "markdown",
   "id": "5057499b-2260-4aef-ae80-52b58cd04fdf",
   "metadata": {},
   "source": [
    "#### Replace Station Names "
   ]
  },
  {
   "cell_type": "code",
   "execution_count": 13,
   "id": "40dd823f-e07c-4700-902f-588aa0b57abe",
   "metadata": {},
   "outputs": [],
   "source": [
    "# Replace values in the NAME column\n",
    "\n",
    "filtered_weather_data = filtered_weather_data.na.replace(['Colombo'], ['Colombo Proper'], 'city')\n",
    "filtered_weather_data = filtered_weather_data.na.replace(['Kurunegala'], ['Kurunegala Proper'], 'city')\n",
    "filtered_weather_data = filtered_weather_data.na.replace(['Badulla'], ['Nuwara Eliya Proper'], 'city')\n",
    "filtered_weather_data = filtered_weather_data.na.replace(['Jaffna'], ['Jaffna Proper'], 'city')\n",
    "filtered_weather_data = filtered_weather_data.na.replace(['Matara'], ['Deniyaya, Matara'], 'city')\n",
    "filtered_weather_data = filtered_weather_data.na.replace(['Kandy'], ['Kandy Proper'], 'city')"
   ]
  },
  {
   "cell_type": "code",
   "execution_count": 14,
   "id": "a654e993-2a17-4ba3-8350-9e51eb83d53c",
   "metadata": {},
   "outputs": [
    {
     "name": "stdout",
     "output_type": "stream",
     "text": [
      "+-------------------+\n",
      "|               city|\n",
      "+-------------------+\n",
      "|     Colombo Proper|\n",
      "|       Kandy Proper|\n",
      "|   Deniyaya, Matara|\n",
      "|      Jaffna Proper|\n",
      "|Nuwara Eliya Proper|\n",
      "|  Kurunegala Proper|\n",
      "+-------------------+\n",
      "\n"
     ]
    }
   ],
   "source": [
    "# Select the \"city\" column and get unique values\n",
    "unique_cities = filtered_weather_data.select(\"city\").distinct()\n",
    "\n",
    "unique_cities.show()"
   ]
  },
  {
   "cell_type": "markdown",
   "id": "731464d4-c9f8-4245-9179-df66399c6230",
   "metadata": {},
   "source": [
    "#### Change Column Names"
   ]
  },
  {
   "cell_type": "code",
   "execution_count": 15,
   "id": "dbd027cc-5529-4165-bdae-ef7ae0a0a280",
   "metadata": {},
   "outputs": [
    {
     "name": "stdout",
     "output_type": "stream",
     "text": [
      "root\n",
      " |-- Timestamp: date (nullable = true)\n",
      " |-- Temperature_Max: float (nullable = true)\n",
      " |-- Temperature_Min: float (nullable = true)\n",
      " |-- Temperature_Mean: float (nullable = true)\n",
      " |-- Apparent_Temperature_Max: float (nullable = true)\n",
      " |-- Apparent_Temperature_Min: float (nullable = true)\n",
      " |-- Apparent_Temperature_Mean: float (nullable = true)\n",
      " |-- Shortwave_Radiation_Sum: float (nullable = true)\n",
      " |-- Precipitation_Sum: float (nullable = true)\n",
      " |-- Rain_Sum: float (nullable = true)\n",
      " |-- Wind_Speed_Max: float (nullable = true)\n",
      " |-- Wind_Gusts_Max: float (nullable = true)\n",
      " |-- Evapotranspiration: float (nullable = true)\n",
      " |-- City: string (nullable = true)\n",
      "\n"
     ]
    }
   ],
   "source": [
    "# Rename the columns\n",
    "filtered_weather_data = filtered_weather_data \\\n",
    "    .withColumnRenamed(\"time\", \"Timestamp\") \\\n",
    "    .withColumnRenamed(\"temperature_2m_max\", \"Temperature_Max\") \\\n",
    "    .withColumnRenamed(\"temperature_2m_min\", \"Temperature_Min\") \\\n",
    "    .withColumnRenamed(\"temperature_2m_mean\", \"Temperature_Mean\") \\\n",
    "    .withColumnRenamed(\"apparent_temperature_max\", \"Apparent_Temperature_Max\") \\\n",
    "    .withColumnRenamed(\"apparent_temperature_min\", \"Apparent_Temperature_Min\") \\\n",
    "    .withColumnRenamed(\"apparent_temperature_mean\", \"Apparent_Temperature_Mean\") \\\n",
    "    .withColumnRenamed(\"shortwave_radiation_sum\", \"Shortwave_Radiation_Sum\") \\\n",
    "    .withColumnRenamed(\"precipitation_sum\", \"Precipitation_Sum\") \\\n",
    "    .withColumnRenamed(\"rain_sum\", \"Rain_Sum\") \\\n",
    "    .withColumnRenamed(\"windspeed_10m_max\", \"Wind_Speed_Max\") \\\n",
    "    .withColumnRenamed(\"windgusts_10m_max\", \"Wind_Gusts_Max\") \\\n",
    "    .withColumnRenamed(\"et0_fao_evapotranspiration\", \"Evapotranspiration\") \\\n",
    "    .withColumnRenamed(\"city\", \"City\")\n",
    "\n",
    "# Show the renamed columns\n",
    "filtered_weather_data.printSchema()"
   ]
  },
  {
   "cell_type": "code",
   "execution_count": 16,
   "id": "eb146a8d-183d-4f3a-91d5-54bac940d934",
   "metadata": {},
   "outputs": [
    {
     "name": "stdout",
     "output_type": "stream",
     "text": [
      "+-------------------+-----+\n",
      "|               City|count|\n",
      "+-------------------+-----+\n",
      "|     Colombo Proper| 1629|\n",
      "|       Kandy Proper| 1629|\n",
      "|   Deniyaya, Matara| 1629|\n",
      "|      Jaffna Proper| 1629|\n",
      "|Nuwara Eliya Proper| 1629|\n",
      "|  Kurunegala Proper| 1629|\n",
      "+-------------------+-----+\n",
      "\n"
     ]
    }
   ],
   "source": [
    "location_counts=filtered_weather_data.groupBy(\"City\").count()\n",
    "location_counts.show()"
   ]
  },
  {
   "cell_type": "code",
   "execution_count": 18,
   "id": "952b08e3-390a-428b-b1b3-280ff812e29a",
   "metadata": {},
   "outputs": [],
   "source": [
    "# Save the DataFrame as a CSV file\n",
    "filtered_weather_data.toPandas().to_csv('data/SriLanka_Weather_new.csv')"
   ]
  }
 ],
 "metadata": {
  "kernelspec": {
   "display_name": "Python 3 (ipykernel)",
   "language": "python",
   "name": "python3"
  },
  "language_info": {
   "codemirror_mode": {
    "name": "ipython",
    "version": 3
   },
   "file_extension": ".py",
   "mimetype": "text/x-python",
   "name": "python",
   "nbconvert_exporter": "python",
   "pygments_lexer": "ipython3",
   "version": "3.10.7"
  }
 },
 "nbformat": 4,
 "nbformat_minor": 5
}
